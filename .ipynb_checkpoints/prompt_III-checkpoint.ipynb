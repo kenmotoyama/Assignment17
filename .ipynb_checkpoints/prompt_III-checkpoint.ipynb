{
 "cells": [
  {
   "cell_type": "markdown",
   "metadata": {},
   "source": [
    "# Practical Application III: Comparing Classifiers\n",
    "\n",
    "**Overview**: In this practical application, your goal is to compare the performance of the classifiers we encountered in this section, namely K Nearest Neighbor, Logistic Regression, Decision Trees, and Support Vector Machines.  We will utilize a dataset related to marketing bank products over the telephone.  \n",
    "\n"
   ]
  },
  {
   "cell_type": "markdown",
   "metadata": {},
   "source": [
    "### Getting Started\n",
    "\n",
    "Our dataset comes from the UCI Machine Learning repository [link](https://archive.ics.uci.edu/ml/datasets/bank+marketing).  The data is from a Portugese banking institution and is a collection of the results of multiple marketing campaigns.  We will make use of the article accompanying the dataset [here](CRISP-DM-BANK.pdf) for more information on the data and features.\n",
    "\n"
   ]
  },
  {
   "cell_type": "markdown",
   "metadata": {},
   "source": [
    "### Problem 1: Understanding the Data\n",
    "\n",
    "To gain a better understanding of the data, please read the information provided in the UCI link above, and examine the **Materials and Methods** section of the paper.  How many marketing campaigns does this data represent?"
   ]
  },
  {
   "cell_type": "code",
   "execution_count": 176,
   "metadata": {},
   "outputs": [
    {
     "data": {
      "text/plain": [
       "17"
      ]
     },
     "execution_count": 176,
     "metadata": {},
     "output_type": "execute_result"
    }
   ],
   "source": [
    "17"
   ]
  },
  {
   "cell_type": "markdown",
   "metadata": {},
   "source": [
    "### Problem 2: Read in the Data\n",
    "\n",
    "Use pandas to read in the dataset `bank-additional-full.csv` and assign to a meaningful variable name."
   ]
  },
  {
   "cell_type": "code",
   "execution_count": 179,
   "metadata": {},
   "outputs": [],
   "source": [
    "import pandas as pd\n",
    "import datetime\n",
    "\n",
    "from sklearn.preprocessing import LabelEncoder\n",
    "from sklearn.model_selection import train_test_split, GridSearchCV\n",
    "from sklearn.linear_model import LogisticRegression\n",
    "from sklearn.metrics import accuracy_score\n",
    "\n",
    "from sklearn.svm import SVC\n",
    "from sklearn.neighbors import KNeighborsClassifier\n",
    "from sklearn.tree import DecisionTreeClassifier\n",
    "from sklearn.preprocessing import StandardScaler, PolynomialFeatures"
   ]
  },
  {
   "cell_type": "code",
   "execution_count": 181,
   "metadata": {},
   "outputs": [],
   "source": [
    "df = pd.read_csv('data/bank-additional-full.csv', sep = ';')"
   ]
  },
  {
   "cell_type": "code",
   "execution_count": 183,
   "metadata": {},
   "outputs": [
    {
     "data": {
      "text/html": [
       "<div>\n",
       "<style scoped>\n",
       "    .dataframe tbody tr th:only-of-type {\n",
       "        vertical-align: middle;\n",
       "    }\n",
       "\n",
       "    .dataframe tbody tr th {\n",
       "        vertical-align: top;\n",
       "    }\n",
       "\n",
       "    .dataframe thead th {\n",
       "        text-align: right;\n",
       "    }\n",
       "</style>\n",
       "<table border=\"1\" class=\"dataframe\">\n",
       "  <thead>\n",
       "    <tr style=\"text-align: right;\">\n",
       "      <th></th>\n",
       "      <th>age</th>\n",
       "      <th>job</th>\n",
       "      <th>marital</th>\n",
       "      <th>education</th>\n",
       "      <th>default</th>\n",
       "      <th>housing</th>\n",
       "      <th>loan</th>\n",
       "      <th>contact</th>\n",
       "      <th>month</th>\n",
       "      <th>day_of_week</th>\n",
       "      <th>...</th>\n",
       "      <th>campaign</th>\n",
       "      <th>pdays</th>\n",
       "      <th>previous</th>\n",
       "      <th>poutcome</th>\n",
       "      <th>emp.var.rate</th>\n",
       "      <th>cons.price.idx</th>\n",
       "      <th>cons.conf.idx</th>\n",
       "      <th>euribor3m</th>\n",
       "      <th>nr.employed</th>\n",
       "      <th>y</th>\n",
       "    </tr>\n",
       "  </thead>\n",
       "  <tbody>\n",
       "    <tr>\n",
       "      <th>0</th>\n",
       "      <td>56</td>\n",
       "      <td>housemaid</td>\n",
       "      <td>married</td>\n",
       "      <td>basic.4y</td>\n",
       "      <td>no</td>\n",
       "      <td>no</td>\n",
       "      <td>no</td>\n",
       "      <td>telephone</td>\n",
       "      <td>may</td>\n",
       "      <td>mon</td>\n",
       "      <td>...</td>\n",
       "      <td>1</td>\n",
       "      <td>999</td>\n",
       "      <td>0</td>\n",
       "      <td>nonexistent</td>\n",
       "      <td>1.1</td>\n",
       "      <td>93.994</td>\n",
       "      <td>-36.4</td>\n",
       "      <td>4.857</td>\n",
       "      <td>5191.0</td>\n",
       "      <td>no</td>\n",
       "    </tr>\n",
       "    <tr>\n",
       "      <th>1</th>\n",
       "      <td>57</td>\n",
       "      <td>services</td>\n",
       "      <td>married</td>\n",
       "      <td>high.school</td>\n",
       "      <td>unknown</td>\n",
       "      <td>no</td>\n",
       "      <td>no</td>\n",
       "      <td>telephone</td>\n",
       "      <td>may</td>\n",
       "      <td>mon</td>\n",
       "      <td>...</td>\n",
       "      <td>1</td>\n",
       "      <td>999</td>\n",
       "      <td>0</td>\n",
       "      <td>nonexistent</td>\n",
       "      <td>1.1</td>\n",
       "      <td>93.994</td>\n",
       "      <td>-36.4</td>\n",
       "      <td>4.857</td>\n",
       "      <td>5191.0</td>\n",
       "      <td>no</td>\n",
       "    </tr>\n",
       "    <tr>\n",
       "      <th>2</th>\n",
       "      <td>37</td>\n",
       "      <td>services</td>\n",
       "      <td>married</td>\n",
       "      <td>high.school</td>\n",
       "      <td>no</td>\n",
       "      <td>yes</td>\n",
       "      <td>no</td>\n",
       "      <td>telephone</td>\n",
       "      <td>may</td>\n",
       "      <td>mon</td>\n",
       "      <td>...</td>\n",
       "      <td>1</td>\n",
       "      <td>999</td>\n",
       "      <td>0</td>\n",
       "      <td>nonexistent</td>\n",
       "      <td>1.1</td>\n",
       "      <td>93.994</td>\n",
       "      <td>-36.4</td>\n",
       "      <td>4.857</td>\n",
       "      <td>5191.0</td>\n",
       "      <td>no</td>\n",
       "    </tr>\n",
       "    <tr>\n",
       "      <th>3</th>\n",
       "      <td>40</td>\n",
       "      <td>admin.</td>\n",
       "      <td>married</td>\n",
       "      <td>basic.6y</td>\n",
       "      <td>no</td>\n",
       "      <td>no</td>\n",
       "      <td>no</td>\n",
       "      <td>telephone</td>\n",
       "      <td>may</td>\n",
       "      <td>mon</td>\n",
       "      <td>...</td>\n",
       "      <td>1</td>\n",
       "      <td>999</td>\n",
       "      <td>0</td>\n",
       "      <td>nonexistent</td>\n",
       "      <td>1.1</td>\n",
       "      <td>93.994</td>\n",
       "      <td>-36.4</td>\n",
       "      <td>4.857</td>\n",
       "      <td>5191.0</td>\n",
       "      <td>no</td>\n",
       "    </tr>\n",
       "    <tr>\n",
       "      <th>4</th>\n",
       "      <td>56</td>\n",
       "      <td>services</td>\n",
       "      <td>married</td>\n",
       "      <td>high.school</td>\n",
       "      <td>no</td>\n",
       "      <td>no</td>\n",
       "      <td>yes</td>\n",
       "      <td>telephone</td>\n",
       "      <td>may</td>\n",
       "      <td>mon</td>\n",
       "      <td>...</td>\n",
       "      <td>1</td>\n",
       "      <td>999</td>\n",
       "      <td>0</td>\n",
       "      <td>nonexistent</td>\n",
       "      <td>1.1</td>\n",
       "      <td>93.994</td>\n",
       "      <td>-36.4</td>\n",
       "      <td>4.857</td>\n",
       "      <td>5191.0</td>\n",
       "      <td>no</td>\n",
       "    </tr>\n",
       "  </tbody>\n",
       "</table>\n",
       "<p>5 rows × 21 columns</p>\n",
       "</div>"
      ],
      "text/plain": [
       "   age        job  marital    education  default housing loan    contact  \\\n",
       "0   56  housemaid  married     basic.4y       no      no   no  telephone   \n",
       "1   57   services  married  high.school  unknown      no   no  telephone   \n",
       "2   37   services  married  high.school       no     yes   no  telephone   \n",
       "3   40     admin.  married     basic.6y       no      no   no  telephone   \n",
       "4   56   services  married  high.school       no      no  yes  telephone   \n",
       "\n",
       "  month day_of_week  ...  campaign  pdays  previous     poutcome emp.var.rate  \\\n",
       "0   may         mon  ...         1    999         0  nonexistent          1.1   \n",
       "1   may         mon  ...         1    999         0  nonexistent          1.1   \n",
       "2   may         mon  ...         1    999         0  nonexistent          1.1   \n",
       "3   may         mon  ...         1    999         0  nonexistent          1.1   \n",
       "4   may         mon  ...         1    999         0  nonexistent          1.1   \n",
       "\n",
       "   cons.price.idx  cons.conf.idx  euribor3m  nr.employed   y  \n",
       "0          93.994          -36.4      4.857       5191.0  no  \n",
       "1          93.994          -36.4      4.857       5191.0  no  \n",
       "2          93.994          -36.4      4.857       5191.0  no  \n",
       "3          93.994          -36.4      4.857       5191.0  no  \n",
       "4          93.994          -36.4      4.857       5191.0  no  \n",
       "\n",
       "[5 rows x 21 columns]"
      ]
     },
     "execution_count": 183,
     "metadata": {},
     "output_type": "execute_result"
    }
   ],
   "source": [
    "df.head()"
   ]
  },
  {
   "cell_type": "code",
   "execution_count": 185,
   "metadata": {},
   "outputs": [
    {
     "name": "stdout",
     "output_type": "stream",
     "text": [
      "<class 'pandas.core.frame.DataFrame'>\n",
      "RangeIndex: 41188 entries, 0 to 41187\n",
      "Data columns (total 21 columns):\n",
      " #   Column          Non-Null Count  Dtype  \n",
      "---  ------          --------------  -----  \n",
      " 0   age             41188 non-null  int64  \n",
      " 1   job             41188 non-null  object \n",
      " 2   marital         41188 non-null  object \n",
      " 3   education       41188 non-null  object \n",
      " 4   default         41188 non-null  object \n",
      " 5   housing         41188 non-null  object \n",
      " 6   loan            41188 non-null  object \n",
      " 7   contact         41188 non-null  object \n",
      " 8   month           41188 non-null  object \n",
      " 9   day_of_week     41188 non-null  object \n",
      " 10  duration        41188 non-null  int64  \n",
      " 11  campaign        41188 non-null  int64  \n",
      " 12  pdays           41188 non-null  int64  \n",
      " 13  previous        41188 non-null  int64  \n",
      " 14  poutcome        41188 non-null  object \n",
      " 15  emp.var.rate    41188 non-null  float64\n",
      " 16  cons.price.idx  41188 non-null  float64\n",
      " 17  cons.conf.idx   41188 non-null  float64\n",
      " 18  euribor3m       41188 non-null  float64\n",
      " 19  nr.employed     41188 non-null  float64\n",
      " 20  y               41188 non-null  object \n",
      "dtypes: float64(5), int64(5), object(11)\n",
      "memory usage: 6.6+ MB\n"
     ]
    }
   ],
   "source": [
    "df.info()"
   ]
  },
  {
   "cell_type": "markdown",
   "metadata": {},
   "source": [
    "### Problem 3: Understanding the Features\n",
    "\n",
    "\n",
    "Examine the data description below, and determine if any of the features are missing values or need to be coerced to a different data type.\n",
    "\n",
    "\n",
    "```\n",
    "Input variables:\n",
    "# bank client data:\n",
    "1 - age (numeric)\n",
    "2 - job : type of job (categorical: 'admin.','blue-collar','entrepreneur','housemaid','management','retired','self-employed','services','student','technician','unemployed','unknown')\n",
    "3 - marital : marital status (categorical: 'divorced','married','single','unknown'; note: 'divorced' means divorced or widowed)\n",
    "4 - education (categorical: 'basic.4y','basic.6y','basic.9y','high.school','illiterate','professional.course','university.degree','unknown')\n",
    "5 - default: has credit in default? (categorical: 'no','yes','unknown')\n",
    "6 - housing: has housing loan? (categorical: 'no','yes','unknown')\n",
    "7 - loan: has personal loan? (categorical: 'no','yes','unknown')\n",
    "# related with the last contact of the current campaign:\n",
    "8 - contact: contact communication type (categorical: 'cellular','telephone')\n",
    "9 - month: last contact month of year (categorical: 'jan', 'feb', 'mar', ..., 'nov', 'dec')\n",
    "10 - day_of_week: last contact day of the week (categorical: 'mon','tue','wed','thu','fri')\n",
    "11 - duration: last contact duration, in seconds (numeric). Important note: this attribute highly affects the output target (e.g., if duration=0 then y='no'). Yet, the duration is not known before a call is performed. Also, after the end of the call y is obviously known. Thus, this input should only be included for benchmark purposes and should be discarded if the intention is to have a realistic predictive model.\n",
    "# other attributes:\n",
    "12 - campaign: number of contacts performed during this campaign and for this client (numeric, includes last contact)\n",
    "13 - pdays: number of days that passed by after the client was last contacted from a previous campaign (numeric; 999 means client was not previously contacted)\n",
    "14 - previous: number of contacts performed before this campaign and for this client (numeric)\n",
    "15 - poutcome: outcome of the previous marketing campaign (categorical: 'failure','nonexistent','success')\n",
    "# social and economic context attributes\n",
    "16 - emp.var.rate: employment variation rate - quarterly indicator (numeric)\n",
    "17 - cons.price.idx: consumer price index - monthly indicator (numeric)\n",
    "18 - cons.conf.idx: consumer confidence index - monthly indicator (numeric)\n",
    "19 - euribor3m: euribor 3 month rate - daily indicator (numeric)\n",
    "20 - nr.employed: number of employees - quarterly indicator (numeric)\n",
    "\n",
    "Output variable (desired target):\n",
    "21 - y - has the client subscribed a term deposit? (binary: 'yes','no')\n",
    "```\n",
    "\n"
   ]
  },
  {
   "cell_type": "code",
   "execution_count": 188,
   "metadata": {},
   "outputs": [
    {
     "data": {
      "text/plain": [
       "False"
      ]
     },
     "execution_count": 188,
     "metadata": {},
     "output_type": "execute_result"
    }
   ],
   "source": [
    "# Check for NaN values\n",
    "\n",
    "df.isna().any().any()"
   ]
  },
  {
   "cell_type": "code",
   "execution_count": 190,
   "metadata": {},
   "outputs": [
    {
     "data": {
      "text/plain": [
       "False"
      ]
     },
     "execution_count": 190,
     "metadata": {},
     "output_type": "execute_result"
    }
   ],
   "source": [
    "# Check for null values\n",
    "\n",
    "df.isnull().values.any()"
   ]
  },
  {
   "cell_type": "markdown",
   "metadata": {},
   "source": [
    "The following fields will need to be coerced to a numerical data type\n",
    " 1   job             41188 non-null  object \n",
    " 2   marital         41188 non-null  object \n",
    " 3   education       41188 non-null  object \n",
    " 4   default         41188 non-null  object \n",
    " 5   housing         41188 non-null  object \n",
    " 6   loan            41188 non-null  object \n",
    " 7   contact         41188 non-null  object \n",
    " 8   month           41188 non-null  object \n",
    " 9   day_of_week     41188 non-null  object \n",
    " 14  poutcome        41188 non-null  object\n",
    "\n",
    "Checking for any null \n",
    "\n",
    " df.isnull().values.any()\n",
    "\n",
    "or NaN values \n",
    "\n",
    " df.isna().any().any()\n",
    "\n",
    "returns False, so no values are missing."
   ]
  },
  {
   "cell_type": "markdown",
   "metadata": {},
   "source": [
    "### Problem 4: Understanding the Task\n",
    "\n",
    "After examining the description and data, your goal now is to clearly state the *Business Objective* of the task.  State the objective below."
   ]
  },
  {
   "cell_type": "code",
   "execution_count": 194,
   "metadata": {},
   "outputs": [
    {
     "name": "stdout",
     "output_type": "stream",
     "text": [
      "<class 'pandas.core.frame.DataFrame'>\n",
      "RangeIndex: 41188 entries, 0 to 41187\n",
      "Data columns (total 21 columns):\n",
      " #   Column          Non-Null Count  Dtype  \n",
      "---  ------          --------------  -----  \n",
      " 0   age             41188 non-null  int64  \n",
      " 1   job             41188 non-null  object \n",
      " 2   marital         41188 non-null  object \n",
      " 3   education       41188 non-null  object \n",
      " 4   default         41188 non-null  object \n",
      " 5   housing         41188 non-null  object \n",
      " 6   loan            41188 non-null  object \n",
      " 7   contact         41188 non-null  object \n",
      " 8   month           41188 non-null  object \n",
      " 9   day_of_week     41188 non-null  object \n",
      " 10  duration        41188 non-null  int64  \n",
      " 11  campaign        41188 non-null  int64  \n",
      " 12  pdays           41188 non-null  int64  \n",
      " 13  previous        41188 non-null  int64  \n",
      " 14  poutcome        41188 non-null  object \n",
      " 15  emp.var.rate    41188 non-null  float64\n",
      " 16  cons.price.idx  41188 non-null  float64\n",
      " 17  cons.conf.idx   41188 non-null  float64\n",
      " 18  euribor3m       41188 non-null  float64\n",
      " 19  nr.employed     41188 non-null  float64\n",
      " 20  y               41188 non-null  object \n",
      "dtypes: float64(5), int64(5), object(11)\n",
      "memory usage: 6.6+ MB\n"
     ]
    }
   ],
   "source": [
    "# What are the data types\n",
    "\n",
    "df.info()"
   ]
  },
  {
   "cell_type": "markdown",
   "metadata": {},
   "source": [
    "The objective of this exercise is to build a model to predict if a client will subscribe to a term deposit."
   ]
  },
  {
   "cell_type": "markdown",
   "metadata": {},
   "source": [
    "Need to transform the objects into numerical values"
   ]
  },
  {
   "cell_type": "markdown",
   "metadata": {},
   "source": [
    "### Problem 5: Engineering Features\n",
    "\n",
    "Now that you understand your business objective, we will build a basic model to get started.  Before we can do this, we must work to encode the data.  Using just the bank information features, prepare the features and target column for modeling with appropriate encoding and transformations."
   ]
  },
  {
   "cell_type": "code",
   "execution_count": 199,
   "metadata": {},
   "outputs": [],
   "source": [
    "# The following fields were objects in the bank information section\n",
    "# 1   job             41188 non-null  object \n",
    "# 2   marital         41188 non-null  object \n",
    "# 3   education       41188 non-null  object \n",
    "# 4   default         41188 non-null  object \n",
    "# 5   housing         41188 non-null  object \n",
    "# 6   loan            41188 non-null  object \n",
    "\n",
    "\n",
    "le = LabelEncoder()\n",
    "df['job_encoded'] = le.fit_transform(df['job'])\n",
    "df['marital_encoded'] = le.fit_transform(df['marital'])\n",
    "df['education_encoded'] = le.fit_transform(df['education'])\n",
    "df['default_encoded'] = le.fit_transform(df['default'])\n",
    "df['housing_encoded'] = le.fit_transform(df['housing'])\n",
    "df['loan_encoded'] = le.fit_transform(df['loan'])\n",
    "#df['contact_encoded'] = le.fit_transform(df['contact'])\n",
    "#df['month_encoded'] = le.fit_transform(df['month'])\n",
    "#df['dow_encoded'] = le.fit_transform(df['day_of_week'])\n",
    "df['y_encoded'] = le.fit_transform(df['y'])"
   ]
  },
  {
   "cell_type": "code",
   "execution_count": 201,
   "metadata": {},
   "outputs": [
    {
     "data": {
      "text/plain": [
       "0        0\n",
       "1        0\n",
       "2        0\n",
       "3        0\n",
       "4        0\n",
       "        ..\n",
       "41183    1\n",
       "41184    0\n",
       "41185    0\n",
       "41186    1\n",
       "41187    0\n",
       "Name: y_encoded, Length: 41188, dtype: int64"
      ]
     },
     "execution_count": 201,
     "metadata": {},
     "output_type": "execute_result"
    }
   ],
   "source": [
    "df['y_encoded']"
   ]
  },
  {
   "cell_type": "markdown",
   "metadata": {},
   "source": [
    "### Problem 6: Train/Test Split\n",
    "\n",
    "With your data prepared, split it into a train and test set."
   ]
  },
  {
   "cell_type": "code",
   "execution_count": 204,
   "metadata": {},
   "outputs": [],
   "source": [
    "# Create training and testing data set from bank information features\n",
    "\n",
    "X_train, X_test, y_train, y_test = train_test_split(df[['age',\\\n",
    "                                                        'job_encoded',\\\n",
    "                                                        'marital_encoded',\\\n",
    "                                                        'education_encoded',\\\n",
    "                                                        'default_encoded',\\\n",
    "                                                        'housing_encoded',\\\n",
    "                                                        'loan_encoded']], df['y_encoded'], test_size = 0.3, random_state = 42)"
   ]
  },
  {
   "cell_type": "markdown",
   "metadata": {},
   "source": [
    "### Problem 7: A Baseline Model\n",
    "\n",
    "Before we build our first model, we want to establish a baseline.  What is the baseline performance that our classifier should aim to beat?"
   ]
  },
  {
   "cell_type": "code",
   "execution_count": 207,
   "metadata": {},
   "outputs": [
    {
     "data": {
      "text/plain": [
       "y_encoded\n",
       "0    0.887346\n",
       "1    0.112654\n",
       "Name: proportion, dtype: float64"
      ]
     },
     "execution_count": 207,
     "metadata": {},
     "output_type": "execute_result"
    }
   ],
   "source": [
    "# What is the percentage time the client subscribes to a term deposit?\n",
    "\n",
    "df['y_encoded'].value_counts(normalize=True)"
   ]
  },
  {
   "cell_type": "markdown",
   "metadata": {},
   "source": [
    "One baseline classifier for the binary outcome of a client will subscribe to a term deposit would model the outcome to be 'no'.  This would give us accuracy of 88.73%."
   ]
  },
  {
   "cell_type": "code",
   "execution_count": null,
   "metadata": {},
   "outputs": [],
   "source": []
  },
  {
   "cell_type": "markdown",
   "metadata": {},
   "source": [
    "### Problem 8: A Simple Model\n",
    "\n",
    "Use Logistic Regression to build a basic model on your data.  "
   ]
  },
  {
   "cell_type": "code",
   "execution_count": 212,
   "metadata": {},
   "outputs": [],
   "source": [
    "# Run logistic regression and track timing\n",
    "\n",
    "log_reg_start_time = datetime.datetime.now()\n",
    "log_reg = LogisticRegression(max_iter=1000).fit(X_train, y_train)\n",
    "log_reg_end_time = datetime.datetime.now()\n",
    "log_time = log_reg_end_time - log_reg_start_time"
   ]
  },
  {
   "cell_type": "markdown",
   "metadata": {},
   "source": [
    "### Problem 9: Score the Model\n",
    "\n",
    "What is the accuracy of your model?"
   ]
  },
  {
   "cell_type": "code",
   "execution_count": 215,
   "metadata": {},
   "outputs": [
    {
     "data": {
      "text/plain": [
       "0.8875940762320952"
      ]
     },
     "execution_count": 215,
     "metadata": {},
     "output_type": "execute_result"
    }
   ],
   "source": [
    "# Evaluate accuracy on training and test data set\n",
    "\n",
    "log_train_accuracy = accuracy_score(log_reg.predict(X_train), y_train)\n",
    "log_test_accuracy = accuracy_score(log_reg.predict(X_test), y_test)\n",
    "log_test_accuracy"
   ]
  },
  {
   "cell_type": "markdown",
   "metadata": {},
   "source": [
    "### Problem 10: Model Comparisons\n",
    "\n",
    "Now, we aim to compare the performance of the Logistic Regression model to our KNN algorithm, Decision Tree, and SVM models.  Using the default settings for each of the models, fit and score each.  Also, be sure to compare the fit time of each of the models.  Present your findings in a `DataFrame` similar to that below:\n",
    "\n",
    "| Model | Train Time | Train Accuracy | Test Accuracy |\n",
    "| ----- | ---------- | -------------  | -----------   |\n",
    "|     |    |.     |.     |"
   ]
  },
  {
   "cell_type": "code",
   "execution_count": 218,
   "metadata": {},
   "outputs": [
    {
     "data": {
      "text/plain": [
       "0.8853281540827062"
      ]
     },
     "execution_count": 218,
     "metadata": {},
     "output_type": "execute_result"
    }
   ],
   "source": [
    "# Run KNN and track timing and accuracy\n",
    "\n",
    "knn_reg_start_time = datetime.datetime.now()\n",
    "knn_reg = KNeighborsClassifier(n_neighbors=6).fit(X_train, y_train)\n",
    "knn_reg_end_time = datetime.datetime.now()\n",
    "knn_time = knn_reg_end_time - knn_reg_start_time\n",
    "knn_train_accuracy = accuracy_score(knn_reg.predict(X_train), y_train)\n",
    "knn_test_accuracy = accuracy_score(knn_reg.predict(X_test), y_test)\n",
    "knn_test_accuracy"
   ]
  },
  {
   "cell_type": "code",
   "execution_count": 220,
   "metadata": {},
   "outputs": [
    {
     "data": {
      "text/plain": [
       "0.8874322246499959"
      ]
     },
     "execution_count": 220,
     "metadata": {},
     "output_type": "execute_result"
    }
   ],
   "source": [
    "# Create Decision Tree and track timing and accuracy\n",
    "\n",
    "dec_reg_start_time = datetime.datetime.now()\n",
    "dec_reg = DecisionTreeClassifier(max_depth=3).fit(X_train, y_train)\n",
    "dec_reg_end_time = datetime.datetime.now()\n",
    "dec_time = dec_reg_end_time - dec_reg_start_time\n",
    "dec_train_accuracy = accuracy_score(dec_reg.predict(X_train), y_train)\n",
    "dec_test_accuracy = accuracy_score(dec_reg.predict(X_test), y_test)\n",
    "dec_test_accuracy"
   ]
  },
  {
   "cell_type": "code",
   "execution_count": 222,
   "metadata": {},
   "outputs": [
    {
     "data": {
      "text/plain": [
       "{'mean_fit_time': array([1.79978642, 2.1219348 , 4.68219757]),\n",
       " 'std_fit_time': array([0.03146366, 0.08753563, 0.4702095 ]),\n",
       " 'mean_score_time': array([1.14495015, 1.24487915, 1.38726678]),\n",
       " 'std_score_time': array([0.00368636, 0.02169839, 0.01459802]),\n",
       " 'param_gamma': masked_array(data=[0.0001, 0.001, 0.01],\n",
       "              mask=[False, False, False],\n",
       "        fill_value=1e+20),\n",
       " 'param_kernel': masked_array(data=['rbf', 'rbf', 'rbf'],\n",
       "              mask=[False, False, False],\n",
       "        fill_value='?',\n",
       "             dtype=object),\n",
       " 'params': [{'gamma': 0.0001, 'kernel': 'rbf'},\n",
       "  {'gamma': 0.001, 'kernel': 'rbf'},\n",
       "  {'gamma': 0.01, 'kernel': 'rbf'}],\n",
       " 'split0_test_score': array([0.88711635, 0.88711635, 0.88711635]),\n",
       " 'split1_test_score': array([0.8872702, 0.8872702, 0.8872702]),\n",
       " 'split2_test_score': array([0.8872702, 0.8872702, 0.8872702]),\n",
       " 'split3_test_score': array([0.8872702, 0.8872702, 0.8872702]),\n",
       " 'split4_test_score': array([0.8872702 , 0.8872702 , 0.88709677]),\n",
       " 'mean_test_score': array([0.88723943, 0.88723943, 0.88720475]),\n",
       " 'std_test_score': array([6.15411968e-05, 6.15411968e-05, 8.04064361e-05]),\n",
       " 'rank_test_score': array([1, 1, 3], dtype=int32)}"
      ]
     },
     "execution_count": 222,
     "metadata": {},
     "output_type": "execute_result"
    }
   ],
   "source": [
    "# Do RBF grid search to find optimal gamma\n",
    "\n",
    "params = {'kernel': ['rbf'],\n",
    "         'gamma': [0.0001, 0.001, 0.01]}\n",
    "grid = GridSearchCV(SVC(), param_grid=params).fit(X_train, y_train)\n",
    "grid_score = grid.score(X_test, y_test)\n",
    "grid.cv_results_"
   ]
  },
  {
   "cell_type": "code",
   "execution_count": 224,
   "metadata": {},
   "outputs": [
    {
     "data": {
      "text/plain": [
       "0.8875940762320952"
      ]
     },
     "execution_count": 224,
     "metadata": {},
     "output_type": "execute_result"
    }
   ],
   "source": [
    "# Run RBF SVC using optimal gamma of 0.001\n",
    "# and keep track of timing and acuracy\n",
    "\n",
    "rbf_start_time = datetime.datetime.now()\n",
    "rbf_mod = SVC(kernel='rbf', gamma=0.001).fit(X_train,y_train)\n",
    "rbf_end_time = datetime.datetime.now()\n",
    "rbf_time = rbf_end_time - rbf_start_time\n",
    "rbf_train_accuracy = accuracy_score(rbf_mod.predict(X_train), y_train)\n",
    "rbf_test_accuracy = accuracy_score(rbf_mod.predict(X_test), y_test)\n",
    "rbf_test_accuracy"
   ]
  },
  {
   "cell_type": "code",
   "execution_count": 226,
   "metadata": {},
   "outputs": [
    {
     "data": {
      "text/plain": [
       "{'mean_fit_time': array([6.90137167, 6.8965662 , 6.89812622]),\n",
       " 'std_fit_time': array([0.05371088, 0.04443874, 0.04767911]),\n",
       " 'mean_score_time': array([0.29117441, 0.2905118 , 0.29045415]),\n",
       " 'std_score_time': array([0.00090657, 0.00130236, 0.00075226]),\n",
       " 'param_gamma': masked_array(data=[0.01, 0.1, 1.0],\n",
       "              mask=[False, False, False],\n",
       "        fill_value=1e+20),\n",
       " 'param_kernel': masked_array(data=['linear', 'linear', 'linear'],\n",
       "              mask=[False, False, False],\n",
       "        fill_value='?',\n",
       "             dtype=object),\n",
       " 'params': [{'gamma': 0.01, 'kernel': 'linear'},\n",
       "  {'gamma': 0.1, 'kernel': 'linear'},\n",
       "  {'gamma': 1.0, 'kernel': 'linear'}],\n",
       " 'split0_test_score': array([0.88711635, 0.88711635, 0.88711635]),\n",
       " 'split1_test_score': array([0.8872702, 0.8872702, 0.8872702]),\n",
       " 'split2_test_score': array([0.8872702, 0.8872702, 0.8872702]),\n",
       " 'split3_test_score': array([0.8872702, 0.8872702, 0.8872702]),\n",
       " 'split4_test_score': array([0.8872702, 0.8872702, 0.8872702]),\n",
       " 'mean_test_score': array([0.88723943, 0.88723943, 0.88723943]),\n",
       " 'std_test_score': array([6.15411968e-05, 6.15411968e-05, 6.15411968e-05]),\n",
       " 'rank_test_score': array([1, 1, 1], dtype=int32)}"
      ]
     },
     "execution_count": 226,
     "metadata": {},
     "output_type": "execute_result"
    }
   ],
   "source": [
    "# Do linear grid search to find optimal gamma\n",
    "\n",
    "params = {'kernel': ['linear'],\n",
    "         'gamma': [0.01, 0.1, 1.0]}\n",
    "grid = GridSearchCV(SVC(), param_grid=params).fit(X_train, y_train)\n",
    "grid_score = grid.score(X_test, y_test)\n",
    "grid.cv_results_"
   ]
  },
  {
   "cell_type": "code",
   "execution_count": 228,
   "metadata": {},
   "outputs": [
    {
     "data": {
      "text/plain": [
       "0.8875940762320952"
      ]
     },
     "execution_count": 228,
     "metadata": {},
     "output_type": "execute_result"
    }
   ],
   "source": [
    "# Do linear SVC using optinal gamma of 0.01\n",
    "# and keep track of timing and acuracy\n",
    "\n",
    "lin_start_time = datetime.datetime.now()\n",
    "lin_mod = SVC(kernel='linear', gamma=0.01).fit(X_train,y_train)\n",
    "lin_end_time = datetime.datetime.now()\n",
    "lin_time = lin_end_time - lin_start_time\n",
    "lin_train_accuracy = accuracy_score(lin_mod.predict(X_train), y_train)\n",
    "lin_test_accuracy = accuracy_score(lin_mod.predict(X_test), y_test)\n",
    "lin_test_accuracy"
   ]
  },
  {
   "cell_type": "code",
   "execution_count": 229,
   "metadata": {},
   "outputs": [
    {
     "data": {
      "text/plain": [
       "{'mean_fit_time': array([1.17220988, 1.17024102, 1.17033138]),\n",
       " 'std_fit_time': array([0.00283267, 0.00227956, 0.0007235 ]),\n",
       " 'mean_score_time': array([0.30694036, 0.30687757, 0.3069387 ]),\n",
       " 'std_score_time': array([5.55428826e-04, 1.18509470e-04, 7.75474745e-05]),\n",
       " 'param_gamma': masked_array(data=[0.1, 1.0, 10.0],\n",
       "              mask=[False, False, False],\n",
       "        fill_value=1e+20),\n",
       " 'param_kernel': masked_array(data=['sigmoid', 'sigmoid', 'sigmoid'],\n",
       "              mask=[False, False, False],\n",
       "        fill_value='?',\n",
       "             dtype=object),\n",
       " 'params': [{'gamma': 0.1, 'kernel': 'sigmoid'},\n",
       "  {'gamma': 1.0, 'kernel': 'sigmoid'},\n",
       "  {'gamma': 10, 'kernel': 'sigmoid'}],\n",
       " 'split0_test_score': array([0.88711635, 0.88711635, 0.88711635]),\n",
       " 'split1_test_score': array([0.8872702, 0.8872702, 0.8872702]),\n",
       " 'split2_test_score': array([0.8872702, 0.8872702, 0.8872702]),\n",
       " 'split3_test_score': array([0.8872702, 0.8872702, 0.8872702]),\n",
       " 'split4_test_score': array([0.8872702, 0.8872702, 0.8872702]),\n",
       " 'mean_test_score': array([0.88723943, 0.88723943, 0.88723943]),\n",
       " 'std_test_score': array([6.15411968e-05, 6.15411968e-05, 6.15411968e-05]),\n",
       " 'rank_test_score': array([1, 1, 1], dtype=int32)}"
      ]
     },
     "execution_count": 229,
     "metadata": {},
     "output_type": "execute_result"
    }
   ],
   "source": [
    "# Do sigmoid grid search to find optimal gamma\n",
    "\n",
    "params = {'kernel': ['sigmoid'],\n",
    "         'gamma': [0.1, 1.0, 10]}\n",
    "grid = GridSearchCV(SVC(), param_grid=params).fit(X_train, y_train)\n",
    "grid_score = grid.score(X_test, y_test)\n",
    "grid.cv_results_"
   ]
  },
  {
   "cell_type": "code",
   "execution_count": 232,
   "metadata": {},
   "outputs": [
    {
     "data": {
      "text/plain": [
       "0.8875940762320952"
      ]
     },
     "execution_count": 232,
     "metadata": {},
     "output_type": "execute_result"
    }
   ],
   "source": [
    "# Do sigmoid SVC using optinal gamma of 0.1\n",
    "# and keep track of timing and acuracy\n",
    "\n",
    "sig_start_time = datetime.datetime.now()\n",
    "sig_mod = SVC(kernel='sigmoid', gamma=0.1).fit(X_train,y_train)\n",
    "sig_end_time = datetime.datetime.now()\n",
    "sig_time = sig_end_time - sig_start_time\n",
    "sig_train_accuracy = accuracy_score(sig_mod.predict(X_train), y_train)\n",
    "sig_test_accuracy = accuracy_score(sig_mod.predict(X_test), y_test)\n",
    "sig_test_accuracy"
   ]
  },
  {
   "cell_type": "code",
   "execution_count": 234,
   "metadata": {},
   "outputs": [],
   "source": [
    "#params = {'kernel': ['poly'],\n",
    "#         'gamma': [0.1]}\n",
    "#grid = GridSearchCV(SVC(), param_grid=params).fit(X_train, y_train)\n",
    "#grid_score = grid.score(X_test, y_test)\n",
    "#poly_time = poly_end_time - poly_start_time\n",
    "#grid.cv_results_"
   ]
  },
  {
   "cell_type": "code",
   "execution_count": 236,
   "metadata": {},
   "outputs": [],
   "source": [
    "model = [\"logistic\", \"KNN\", \"decision tree\", \"rbf\", \"linear\", \"sigmoid\", \"poly\"]\n",
    "train_time = [log_time, knn_time, dec_time, rbf_time, lin_time, sig_time, \"N/A\"]\n",
    "train_accuracy = [log_train_accuracy, knn_train_accuracy, dec_train_accuracy, \\\n",
    "                  rbf_train_accuracy, lin_train_accuracy, sig_train_accuracy, \"N/A\"]\n",
    "test_accuracy = [log_test_accuracy, knn_test_accuracy, dec_test_accuracy, \\\n",
    "                 rbf_test_accuracy, lin_test_accuracy, sig_test_accuracy, \"N/A\"]\n",
    "results_dict = {'Model': model, 'Train Time': train_time, 'Train Accuracy': train_accuracy, 'Test Accuracy': test_accuracy}\n",
    "results = pd.DataFrame(results_dict)"
   ]
  },
  {
   "cell_type": "code",
   "execution_count": 238,
   "metadata": {},
   "outputs": [
    {
     "data": {
      "text/html": [
       "<div>\n",
       "<style scoped>\n",
       "    .dataframe tbody tr th:only-of-type {\n",
       "        vertical-align: middle;\n",
       "    }\n",
       "\n",
       "    .dataframe tbody tr th {\n",
       "        vertical-align: top;\n",
       "    }\n",
       "\n",
       "    .dataframe thead th {\n",
       "        text-align: right;\n",
       "    }\n",
       "</style>\n",
       "<table border=\"1\" class=\"dataframe\">\n",
       "  <thead>\n",
       "    <tr style=\"text-align: right;\">\n",
       "      <th></th>\n",
       "      <th>Model</th>\n",
       "      <th>Train Time</th>\n",
       "      <th>Train Accuracy</th>\n",
       "      <th>Test Accuracy</th>\n",
       "    </tr>\n",
       "  </thead>\n",
       "  <tbody>\n",
       "    <tr>\n",
       "      <th>0</th>\n",
       "      <td>logistic</td>\n",
       "      <td>0:00:00.152701</td>\n",
       "      <td>0.887239</td>\n",
       "      <td>0.887594</td>\n",
       "    </tr>\n",
       "    <tr>\n",
       "      <th>1</th>\n",
       "      <td>KNN</td>\n",
       "      <td>0:00:00.019566</td>\n",
       "      <td>0.890673</td>\n",
       "      <td>0.885328</td>\n",
       "    </tr>\n",
       "    <tr>\n",
       "      <th>2</th>\n",
       "      <td>decision tree</td>\n",
       "      <td>0:00:00.023270</td>\n",
       "      <td>0.887621</td>\n",
       "      <td>0.887432</td>\n",
       "    </tr>\n",
       "    <tr>\n",
       "      <th>3</th>\n",
       "      <td>rbf</td>\n",
       "      <td>0:00:03.157619</td>\n",
       "      <td>0.887239</td>\n",
       "      <td>0.887594</td>\n",
       "    </tr>\n",
       "    <tr>\n",
       "      <th>4</th>\n",
       "      <td>linear</td>\n",
       "      <td>0:00:10.780054</td>\n",
       "      <td>0.887239</td>\n",
       "      <td>0.887594</td>\n",
       "    </tr>\n",
       "    <tr>\n",
       "      <th>5</th>\n",
       "      <td>sigmoid</td>\n",
       "      <td>0:00:01.845890</td>\n",
       "      <td>0.887239</td>\n",
       "      <td>0.887594</td>\n",
       "    </tr>\n",
       "    <tr>\n",
       "      <th>6</th>\n",
       "      <td>poly</td>\n",
       "      <td>N/A</td>\n",
       "      <td>N/A</td>\n",
       "      <td>N/A</td>\n",
       "    </tr>\n",
       "  </tbody>\n",
       "</table>\n",
       "</div>"
      ],
      "text/plain": [
       "           Model      Train Time Train Accuracy Test Accuracy\n",
       "0       logistic  0:00:00.152701       0.887239      0.887594\n",
       "1            KNN  0:00:00.019566       0.890673      0.885328\n",
       "2  decision tree  0:00:00.023270       0.887621      0.887432\n",
       "3            rbf  0:00:03.157619       0.887239      0.887594\n",
       "4         linear  0:00:10.780054       0.887239      0.887594\n",
       "5        sigmoid  0:00:01.845890       0.887239      0.887594\n",
       "6           poly             N/A            N/A           N/A"
      ]
     },
     "execution_count": 238,
     "metadata": {},
     "output_type": "execute_result"
    }
   ],
   "source": [
    "results"
   ]
  },
  {
   "cell_type": "markdown",
   "metadata": {},
   "source": [
    "# Summary\n",
    "\n",
    "Overall, some of the models performed similarly, particularly the logistic, rbf, linear and sigmoid models had the same test accuracy of 88.76%.  KNN performed better for the training dataset, but performed worse on the test accuracy, indicating overfitting.  The training accuracy also performed better on the training dateset, but performed worse on the test accuracy, also indicating overfitting.\n",
    "\n",
    "# Logistic Regression\n",
    "Very fast run time <1s with high training accuracy and lower testing accuracy indicating overfitting.\n",
    "\n",
    "# KNN Nearest Neighbors\n",
    "Fastest run time <1s and had similar training and testing accuracy.\n",
    "\n",
    "# Decision Tree Depth\n",
    "Very fast run time <1s with similar training accuracy and testing accuracy.\n",
    "\n",
    "# RBF\n",
    "Fast run time of about 3s with similar training accuracy and testing accuracy.\n",
    "\n",
    "# Linear\n",
    "Slower run time of about 10s with similar training accuracy and testing accuracy.\n",
    "\n",
    "# Sigmoid \n",
    "Fast run time of < 2s with similar training accuracy and testing accuracy.\n",
    "\n",
    "Overall there was a lift in performance with the best performing decision tree model with depth = 5.  Performing 3% better than a model that did not include the additional features in the training/test data set..\n"
   ]
  },
  {
   "cell_type": "markdown",
   "metadata": {},
   "source": [
    "### Problem 11: Improving the Model\n",
    "\n",
    "Now that we have some basic models on the board, we want to try to improve these.  Below, we list a few things to explore in this pursuit.\n",
    "\n",
    "- More feature engineering and exploration.  For example, should we keep the gender feature?  Why or why not?\n",
    "- Hyperparameter tuning and grid search.  All of our models have additional hyperparameters to tune and explore.  For example the number of neighbors in KNN or the maximum depth of a Decision Tree.  \n",
    "- Adjust your performance metric"
   ]
  },
  {
   "cell_type": "markdown",
   "metadata": {},
   "source": [
    "Examine the data description below, and determine if any of the features are missing values or need to be coerced to a different data type.\n",
    "\n",
    "\n",
    "```\n",
    "Input variables:\n",
    "# bank client data:\n",
    "1 - age (numeric)\n",
    "2 - job : type of job (categorical: 'admin.','blue-collar','entrepreneur','housemaid','management','retired','self-employed','services','student','technician','unemployed','unknown')\n",
    "3 - marital : marital status (categorical: 'divorced','married','single','unknown'; note: 'divorced' means divorced or widowed)\n",
    "4 - education (categorical: 'basic.4y','basic.6y','basic.9y','high.school','illiterate','professional.course','university.degree','unknown')\n",
    "5 - default: has credit in default? (categorical: 'no','yes','unknown')\n",
    "6 - housing: has housing loan? (categorical: 'no','yes','unknown')\n",
    "7 - loan: has personal loan? (categorical: 'no','yes','unknown')\n",
    "# related with the last contact of the current campaign:\n",
    "8 - contact: contact communication type (categorical: 'cellular','telephone')\n",
    "9 - month: last contact month of year (categorical: 'jan', 'feb', 'mar', ..., 'nov', 'dec')\n",
    "10 - day_of_week: last contact day of the week (categorical: 'mon','tue','wed','thu','fri')\n",
    "11 - duration: last contact duration, in seconds (numeric). Important note: this attribute highly affects the output target (e.g., if duration=0 then y='no'). Yet, the duration is not known before a call is performed. Also, after the end of the call y is obviously known. Thus, this input should only be included for benchmark purposes and should be discarded if the intention is to have a realistic predictive model.\n",
    "# other attributes:\n",
    "12 - campaign: number of contacts performed during this campaign and for this client (numeric, includes last contact)\n",
    "13 - pdays: number of days that passed by after the client was last contacted from a previous campaign (numeric; 999 means client was not previously contacted)\n",
    "14 - previous: number of contacts performed before this campaign and for this client (numeric)\n",
    "15 - poutcome: outcome of the previous marketing campaign (categorical: 'failure','nonexistent','success')\n",
    "# social and economic context attributes\n",
    "16 - emp.var.rate: employment variation rate - quarterly indicator (numeric)\n",
    "17 - cons.price.idx: consumer price index - monthly indicator (numeric)\n",
    "18 - cons.conf.idx: consumer confidence index - monthly indicator (numeric)\n",
    "19 - euribor3m: euribor 3 month rate - daily indicator (numeric)\n",
    "20 - nr.employed: number of employees - quarterly indicator (numeric)\n",
    "\n",
    "Output variable (desired target):\n",
    "21 - y - has the client subscribed a term deposit? (binary: 'yes','no')"
   ]
  },
  {
   "cell_type": "code",
   "execution_count": 242,
   "metadata": {},
   "outputs": [],
   "source": [
    "# encode last contact and outcome of previous campaign\n",
    "\n",
    "df['month_encoded'] = le.fit_transform(df['month'])\n",
    "df['poutcome_encoded'] = le.fit_transform(df['poutcome'])"
   ]
  },
  {
   "cell_type": "code",
   "execution_count": 244,
   "metadata": {},
   "outputs": [],
   "source": [
    "# Create training and testing data set from bank information features\n",
    "\n",
    "X_train, X_test, y_train, y_test = train_test_split(df[['age',\\\n",
    "                                                        'job_encoded',\\\n",
    "                                                        'marital_encoded',\\\n",
    "                                                        'education_encoded',\\\n",
    "                                                        'default_encoded',\\\n",
    "                                                        'housing_encoded',\\\n",
    "                                                        'loan_encoded',\\\n",
    "                                                        'month_encoded',\\\n",
    "                                                        'duration',\\\n",
    "                                                        'campaign',\\\n",
    "                                                        'previous',\\\n",
    "                                                        'poutcome_encoded',\\\n",
    "                                                        'euribor3m',\\\n",
    "                                                        'nr.employed']], df['y_encoded'], test_size = 0.3, random_state = 42)"
   ]
  },
  {
   "cell_type": "code",
   "execution_count": 246,
   "metadata": {},
   "outputs": [
    {
     "data": {
      "text/plain": [
       "0.9098486687707372"
      ]
     },
     "execution_count": 246,
     "metadata": {},
     "output_type": "execute_result"
    }
   ],
   "source": [
    "# Run logistic regression and track timing\n",
    "\n",
    "log_reg_start_time = datetime.datetime.now()\n",
    "log_reg = LogisticRegression(max_iter=8000).fit(X_train, y_train)\n",
    "log_reg_end_time = datetime.datetime.now()\n",
    "log_time = log_reg_end_time - log_reg_start_time\n",
    "\n",
    "# Evaluate accuracy on training and test data set\n",
    "\n",
    "log_train_accuracy = accuracy_score(log_reg.predict(X_train), y_train)\n",
    "log_test_accuracy = accuracy_score(log_reg.predict(X_test), y_test)\n",
    "log_test_accuracy"
   ]
  },
  {
   "cell_type": "code",
   "execution_count": 248,
   "metadata": {},
   "outputs": [
    {
     "data": {
      "text/plain": [
       "{'mean_fit_time': array([0.01226292, 0.01008763, 0.0101007 , 0.01048121, 0.01003146]),\n",
       " 'std_fit_time': array([4.17176464e-03, 6.96379163e-05, 3.56646144e-05, 7.04479201e-04,\n",
       "        7.75644199e-05]),\n",
       " 'mean_score_time': array([0.11958518, 0.12013454, 0.12023458, 0.12286339, 0.12349949]),\n",
       " 'std_score_time': array([0.00517702, 0.00188066, 0.00054573, 0.00153413, 0.00057191]),\n",
       " 'param_n_neighbors': masked_array(data=[7, 8, 9, 10, 11],\n",
       "              mask=[False, False, False, False, False],\n",
       "        fill_value=999999),\n",
       " 'params': [{'n_neighbors': 7},\n",
       "  {'n_neighbors': 8},\n",
       "  {'n_neighbors': 9},\n",
       "  {'n_neighbors': 10},\n",
       "  {'n_neighbors': 11}],\n",
       " 'split0_test_score': array([0.89578637, 0.89838738, 0.89595977, 0.89873418, 0.89856078]),\n",
       " 'split1_test_score': array([0.90114464, 0.89993063, 0.90010406, 0.89941034, 0.90045092]),\n",
       " 'split2_test_score': array([0.90079778, 0.90235865, 0.90270552, 0.90357267, 0.90513354]),\n",
       " 'split3_test_score': array([0.90027749, 0.90131807, 0.90600069, 0.907735  , 0.90877558]),\n",
       " 'split4_test_score': array([0.90183836, 0.90287895, 0.90114464, 0.90426639, 0.90062435]),\n",
       " 'mean_test_score': array([0.89996893, 0.90097474, 0.90118294, 0.90274371, 0.90270903]),\n",
       " 'std_test_score': array([0.00215189, 0.00163974, 0.0032856 , 0.00331983, 0.00372382]),\n",
       " 'rank_test_score': array([5, 4, 3, 1, 2], dtype=int32)}"
      ]
     },
     "execution_count": 248,
     "metadata": {},
     "output_type": "execute_result"
    }
   ],
   "source": [
    "# KNN, how many optimal neighbors\n",
    "\n",
    "knn = KNeighborsClassifier()\n",
    "\n",
    "# Define parameter grid with different 'n_neighbors' values\n",
    "\n",
    "param_grid = {'n_neighbors': [7, 8, 9, 10, 11]}\n",
    "\n",
    "# Perform GridSearchCV\n",
    "\n",
    "grid_search = GridSearchCV(estimator=knn, param_grid=param_grid, cv=5) \n",
    "\n",
    "# Fit the model on your training data\n",
    "\n",
    "grid_search.fit(X_train, y_train) \n",
    "grid_search.cv_results_"
   ]
  },
  {
   "cell_type": "code",
   "execution_count": 250,
   "metadata": {},
   "outputs": [
    {
     "data": {
      "text/plain": [
       "0.9062879339645545"
      ]
     },
     "execution_count": 250,
     "metadata": {},
     "output_type": "execute_result"
    }
   ],
   "source": [
    "# Run KNN and track timing and accuracy at optimal neighbors\n",
    "\n",
    "knn_reg_start_time = datetime.datetime.now()\n",
    "knn_reg = KNeighborsClassifier(n_neighbors=10).fit(X_train, y_train)\n",
    "knn_reg_end_time = datetime.datetime.now()\n",
    "knn_time = knn_reg_end_time - knn_reg_start_time\n",
    "knn_train_accuracy = accuracy_score(knn_reg.predict(X_train), y_train)\n",
    "knn_test_accuracy = accuracy_score(knn_reg.predict(X_test), y_test)\n",
    "knn_test_accuracy"
   ]
  },
  {
   "cell_type": "code",
   "execution_count": 252,
   "metadata": {},
   "outputs": [
    {
     "data": {
      "text/plain": [
       "{'mean_fit_time': array([0.02295399, 0.02578602, 0.0315279 , 0.03724837, 0.04275899]),\n",
       " 'std_fit_time': array([0.00402755, 0.00024655, 0.00012601, 0.00027069, 0.00012748]),\n",
       " 'mean_score_time': array([0.00211306, 0.0019433 , 0.00191579, 0.00205221, 0.00206628]),\n",
       " 'std_score_time': array([8.07994780e-04, 4.65324174e-05, 2.04660375e-05, 6.74060555e-05,\n",
       "        3.74092654e-05]),\n",
       " 'param_max_depth': masked_array(data=[3, 4, 5, 6, 7],\n",
       "              mask=[False, False, False, False, False],\n",
       "        fill_value=999999),\n",
       " 'params': [{'max_depth': 3},\n",
       "  {'max_depth': 4},\n",
       "  {'max_depth': 5},\n",
       "  {'max_depth': 6},\n",
       "  {'max_depth': 7}],\n",
       " 'split0_test_score': array([0.90289579, 0.9082712 , 0.907751  , 0.90619039, 0.9084446 ]),\n",
       " 'split1_test_score': array([0.90842872, 0.91363163, 0.91449879, 0.91397849, 0.90998959]),\n",
       " 'split2_test_score': array([0.90929587, 0.91241762, 0.91207076, 0.90964273, 0.91050989]),\n",
       " 'split3_test_score': array([0.91207076, 0.91831426, 0.92074228, 0.91415193, 0.91241762]),\n",
       " 'split4_test_score': array([0.90790843, 0.91293791, 0.9157128 , 0.91449879, 0.9117239 ]),\n",
       " 'mean_test_score': array([0.90811991, 0.91311452, 0.91415512, 0.91169247, 0.91061712]),\n",
       " 'std_test_score': array([0.00298073, 0.00320248, 0.004273  , 0.00327489, 0.00138506]),\n",
       " 'rank_test_score': array([5, 2, 1, 3, 4], dtype=int32)}"
      ]
     },
     "execution_count": 252,
     "metadata": {},
     "output_type": "execute_result"
    }
   ],
   "source": [
    "# KNN, how many optimal neighbors\n",
    "\n",
    "dtc = DecisionTreeClassifier()\n",
    "\n",
    "# Define parameter grid with different 'n_neighbors' values\n",
    "\n",
    "param_grid = {'max_depth': [3, 4, 5, 6, 7]}\n",
    "\n",
    "# Perform GridSearchCV\n",
    "\n",
    "grid_search = GridSearchCV(estimator=dtc, param_grid=param_grid, cv=5) \n",
    "\n",
    "# Fit the model on your training data\n",
    "\n",
    "grid_search.fit(X_train, y_train) \n",
    "grid_search.cv_results_"
   ]
  },
  {
   "cell_type": "code",
   "execution_count": 254,
   "metadata": {},
   "outputs": [
    {
     "data": {
      "text/plain": [
       "0.9149469936068625"
      ]
     },
     "execution_count": 254,
     "metadata": {},
     "output_type": "execute_result"
    }
   ],
   "source": [
    "# Create Decision Tree and track timing and accuracy\n",
    "\n",
    "dec_reg_start_time = datetime.datetime.now()\n",
    "dec_reg = DecisionTreeClassifier(max_depth=5).fit(X_train, y_train)\n",
    "dec_reg_end_time = datetime.datetime.now()\n",
    "dec_time = dec_reg_end_time - dec_reg_start_time\n",
    "dec_train_accuracy = accuracy_score(dec_reg.predict(X_train), y_train)\n",
    "dec_test_accuracy = accuracy_score(dec_reg.predict(X_test), y_test)\n",
    "dec_test_accuracy"
   ]
  },
  {
   "cell_type": "code",
   "execution_count": 256,
   "metadata": {},
   "outputs": [
    {
     "data": {
      "text/plain": [
       "{'mean_fit_time': array([ 2.65182204,  2.91571169, 10.46960468]),\n",
       " 'std_fit_time': array([0.00978088, 0.02093119, 0.05082829]),\n",
       " 'mean_score_time': array([0.91211581, 1.09366088, 1.90355   ]),\n",
       " 'std_score_time': array([0.01657436, 0.00818348, 0.01412333]),\n",
       " 'param_gamma': masked_array(data=[0.0001, 0.001, 0.01],\n",
       "              mask=[False, False, False],\n",
       "        fill_value=1e+20),\n",
       " 'param_kernel': masked_array(data=['rbf', 'rbf', 'rbf'],\n",
       "              mask=[False, False, False],\n",
       "        fill_value='?',\n",
       "             dtype=object),\n",
       " 'params': [{'gamma': 0.0001, 'kernel': 'rbf'},\n",
       "  {'gamma': 0.001, 'kernel': 'rbf'},\n",
       "  {'gamma': 0.01, 'kernel': 'rbf'}],\n",
       " 'split0_test_score': array([0.90462979, 0.90376279, 0.89474597]),\n",
       " 'split1_test_score': array([0.90808186, 0.90582726, 0.89732917]),\n",
       " 'split2_test_score': array([0.90721471, 0.90617412, 0.89941034]),\n",
       " 'split3_test_score': array([0.91397849, 0.91137704, 0.89819632]),\n",
       " 'split4_test_score': array([0.90617412, 0.90287895, 0.89784946]),\n",
       " 'mean_test_score': array([0.9080158 , 0.90600403, 0.89750625]),\n",
       " 'std_test_score': array([0.00319552, 0.00295698, 0.00154078]),\n",
       " 'rank_test_score': array([1, 2, 3], dtype=int32)}"
      ]
     },
     "execution_count": 256,
     "metadata": {},
     "output_type": "execute_result"
    }
   ],
   "source": [
    "# Do RBF grid search to find optimal gamma\n",
    "\n",
    "params = {'kernel': ['rbf'],\n",
    "         'gamma': [0.0001, 0.001, 0.01]}\n",
    "grid = GridSearchCV(SVC(), param_grid=params).fit(X_train, y_train)\n",
    "grid_score = grid.score(X_test, y_test)\n",
    "grid.cv_results_"
   ]
  },
  {
   "cell_type": "code",
   "execution_count": 258,
   "metadata": {},
   "outputs": [
    {
     "data": {
      "text/plain": [
       "0.9095249656065388"
      ]
     },
     "execution_count": 258,
     "metadata": {},
     "output_type": "execute_result"
    }
   ],
   "source": [
    "# Run RBF SVC using optimal gamma of 0.001\n",
    "# and keep track of timing and acuracy\n",
    "\n",
    "rbf_start_time = datetime.datetime.now()\n",
    "rbf_mod = SVC(kernel='rbf', gamma=0.001).fit(X_train,y_train)\n",
    "rbf_end_time = datetime.datetime.now()\n",
    "rbf_time = rbf_end_time - rbf_start_time\n",
    "rbf_train_accuracy = accuracy_score(rbf_mod.predict(X_train), y_train)\n",
    "rbf_test_accuracy = accuracy_score(rbf_mod.predict(X_test), y_test)\n",
    "rbf_test_accuracy"
   ]
  },
  {
   "cell_type": "code",
   "execution_count": 260,
   "metadata": {},
   "outputs": [
    {
     "data": {
      "text/plain": [
       "{'mean_fit_time': array([9.16251411, 9.20996714, 9.39921584]),\n",
       " 'std_fit_time': array([0.50403649, 0.52888643, 0.56799874]),\n",
       " 'mean_score_time': array([0.17938557, 0.18520656, 0.18263216]),\n",
       " 'std_score_time': array([0.00136868, 0.00918451, 0.00238002]),\n",
       " 'param_gamma': masked_array(data=[0.01, 0.1, 1.0],\n",
       "              mask=[False, False, False],\n",
       "        fill_value=1e+20),\n",
       " 'param_kernel': masked_array(data=['linear', 'linear', 'linear'],\n",
       "              mask=[False, False, False],\n",
       "        fill_value='?',\n",
       "             dtype=object),\n",
       " 'params': [{'gamma': 0.01, 'kernel': 'linear'},\n",
       "  {'gamma': 0.1, 'kernel': 'linear'},\n",
       "  {'gamma': 1.0, 'kernel': 'linear'}],\n",
       " 'split0_test_score': array([0.90150858, 0.90150858, 0.90150858]),\n",
       " 'split1_test_score': array([0.89993063, 0.89993063, 0.89993063]),\n",
       " 'split2_test_score': array([0.90426639, 0.90426639, 0.90426639]),\n",
       " 'split3_test_score': array([0.90339924, 0.90339924, 0.90339924]),\n",
       " 'split4_test_score': array([0.90443982, 0.90443982, 0.90443982]),\n",
       " 'mean_test_score': array([0.90270893, 0.90270893, 0.90270893]),\n",
       " 'std_test_score': array([0.00173539, 0.00173539, 0.00173539]),\n",
       " 'rank_test_score': array([1, 1, 1], dtype=int32)}"
      ]
     },
     "execution_count": 260,
     "metadata": {},
     "output_type": "execute_result"
    }
   ],
   "source": [
    "# Do linear grid search to find optimal gamma\n",
    "\n",
    "params = {'kernel': ['linear'],\n",
    "         'gamma': [0.01, 0.1, 1.0]}\n",
    "grid = GridSearchCV(SVC(), param_grid=params).fit(X_train, y_train)\n",
    "grid_score = grid.score(X_test, y_test)\n",
    "grid.cv_results_"
   ]
  },
  {
   "cell_type": "code",
   "execution_count": 262,
   "metadata": {},
   "outputs": [
    {
     "data": {
      "text/plain": [
       "0.90515497288986"
      ]
     },
     "execution_count": 262,
     "metadata": {},
     "output_type": "execute_result"
    }
   ],
   "source": [
    "# Do linear SVC using optinal gamma of 0.01\n",
    "# and keep track of timing and acuracy\n",
    "\n",
    "lin_start_time = datetime.datetime.now()\n",
    "lin_mod = SVC(kernel='linear', gamma=0.01).fit(X_train,y_train)\n",
    "lin_end_time = datetime.datetime.now()\n",
    "lin_time = lin_end_time - lin_start_time\n",
    "lin_train_accuracy = accuracy_score(lin_mod.predict(X_train), y_train)\n",
    "lin_test_accuracy = accuracy_score(lin_mod.predict(X_test), y_test)\n",
    "lin_test_accuracy"
   ]
  },
  {
   "cell_type": "code",
   "execution_count": 264,
   "metadata": {},
   "outputs": [
    {
     "data": {
      "text/plain": [
       "{'mean_fit_time': array([1.34971814, 1.34816785, 1.3780416 ]),\n",
       " 'std_fit_time': array([0.01549207, 0.00983221, 0.01968716]),\n",
       " 'mean_score_time': array([0.32600198, 0.32583594, 0.32779102]),\n",
       " 'std_score_time': array([0.00046869, 0.00021899, 0.00175444]),\n",
       " 'param_gamma': masked_array(data=[0.1, 1.0, 10.0],\n",
       "              mask=[False, False, False],\n",
       "        fill_value=1e+20),\n",
       " 'param_kernel': masked_array(data=['sigmoid', 'sigmoid', 'sigmoid'],\n",
       "              mask=[False, False, False],\n",
       "        fill_value='?',\n",
       "             dtype=object),\n",
       " 'params': [{'gamma': 0.1, 'kernel': 'sigmoid'},\n",
       "  {'gamma': 1.0, 'kernel': 'sigmoid'},\n",
       "  {'gamma': 10, 'kernel': 'sigmoid'}],\n",
       " 'split0_test_score': array([0.88711635, 0.88711635, 0.88711635]),\n",
       " 'split1_test_score': array([0.8872702, 0.8872702, 0.8872702]),\n",
       " 'split2_test_score': array([0.8872702, 0.8872702, 0.8872702]),\n",
       " 'split3_test_score': array([0.8872702, 0.8872702, 0.8872702]),\n",
       " 'split4_test_score': array([0.8872702, 0.8872702, 0.8872702]),\n",
       " 'mean_test_score': array([0.88723943, 0.88723943, 0.88723943]),\n",
       " 'std_test_score': array([6.15411968e-05, 6.15411968e-05, 6.15411968e-05]),\n",
       " 'rank_test_score': array([1, 1, 1], dtype=int32)}"
      ]
     },
     "execution_count": 264,
     "metadata": {},
     "output_type": "execute_result"
    }
   ],
   "source": [
    "# Do sigmoid grid search to find optimal gamma\n",
    "\n",
    "params = {'kernel': ['sigmoid'],\n",
    "         'gamma': [0.1, 1.0, 10]}\n",
    "grid = GridSearchCV(SVC(), param_grid=params).fit(X_train, y_train)\n",
    "grid_score = grid.score(X_test, y_test)\n",
    "grid.cv_results_"
   ]
  },
  {
   "cell_type": "code",
   "execution_count": 266,
   "metadata": {},
   "outputs": [
    {
     "data": {
      "text/plain": [
       "0.8875940762320952"
      ]
     },
     "execution_count": 266,
     "metadata": {},
     "output_type": "execute_result"
    }
   ],
   "source": [
    "# Do sigmoid SVC using optimal gamma of 0.1\n",
    "# and keep track of timing and acuracy\n",
    "\n",
    "sig_start_time = datetime.datetime.now()\n",
    "sig_mod = SVC(kernel='sigmoid', gamma=0.1).fit(X_train,y_train)\n",
    "sig_end_time = datetime.datetime.now()\n",
    "sig_time = sig_end_time - sig_start_time\n",
    "sig_train_accuracy = accuracy_score(sig_mod.predict(X_train), y_train)\n",
    "sig_test_accuracy = accuracy_score(sig_mod.predict(X_test), y_test)\n",
    "sig_test_accuracy"
   ]
  },
  {
   "cell_type": "code",
   "execution_count": null,
   "metadata": {},
   "outputs": [],
   "source": [
    "#params = {'kernel': ['poly'],\n",
    "#         'gamma': [0.1]}\n",
    "#grid = GridSearchCV(SVC(), param_grid=params).fit(X_train, y_train)\n",
    "#grid_score = grid.score(X_test, y_test)\n",
    "#poly_time = poly_end_time - poly_start_time\n",
    "#grid.cv_results_"
   ]
  },
  {
   "cell_type": "code",
   "execution_count": 274,
   "metadata": {},
   "outputs": [],
   "source": [
    "model2 = [\"logistic\", \"KNN\", \"decision tree\", \"rbf\", \"linear\", \"sigmoid\", \"poly\"]\n",
    "train_time2 = [log_time, knn_time, dec_time, rbf_time, lin_time, sig_time, \"N/A\"]\n",
    "train_accuracy2 = [log_train_accuracy, knn_train_accuracy, dec_train_accuracy, \\\n",
    "                  rbf_train_accuracy, lin_train_accuracy, sig_train_accuracy, \"N/A\"]\n",
    "test_accuracy2 = [log_test_accuracy, knn_test_accuracy, dec_test_accuracy, \\\n",
    "                 rbf_test_accuracy, lin_test_accuracy, sig_test_accuracy, \"N/A\"]\n",
    "results_dict2 = {'Model': model2, 'Train Time': train_time2, 'Train Accuracy': train_accuracy2, 'Test Accuracy': test_accuracy2}\n",
    "results2 = pd.DataFrame(results_dict2)"
   ]
  },
  {
   "cell_type": "code",
   "execution_count": 276,
   "metadata": {},
   "outputs": [
    {
     "data": {
      "text/html": [
       "<div>\n",
       "<style scoped>\n",
       "    .dataframe tbody tr th:only-of-type {\n",
       "        vertical-align: middle;\n",
       "    }\n",
       "\n",
       "    .dataframe tbody tr th {\n",
       "        vertical-align: top;\n",
       "    }\n",
       "\n",
       "    .dataframe thead th {\n",
       "        text-align: right;\n",
       "    }\n",
       "</style>\n",
       "<table border=\"1\" class=\"dataframe\">\n",
       "  <thead>\n",
       "    <tr style=\"text-align: right;\">\n",
       "      <th></th>\n",
       "      <th>Model</th>\n",
       "      <th>Train Time</th>\n",
       "      <th>Train Accuracy</th>\n",
       "      <th>Test Accuracy</th>\n",
       "    </tr>\n",
       "  </thead>\n",
       "  <tbody>\n",
       "    <tr>\n",
       "      <th>0</th>\n",
       "      <td>logistic</td>\n",
       "      <td>0:00:11.356481</td>\n",
       "      <td>0.907634</td>\n",
       "      <td>0.909849</td>\n",
       "    </tr>\n",
       "    <tr>\n",
       "      <th>1</th>\n",
       "      <td>KNN</td>\n",
       "      <td>0:00:00.025731</td>\n",
       "      <td>0.917693</td>\n",
       "      <td>0.906288</td>\n",
       "    </tr>\n",
       "    <tr>\n",
       "      <th>2</th>\n",
       "      <td>decision tree</td>\n",
       "      <td>0:00:00.054439</td>\n",
       "      <td>0.916652</td>\n",
       "      <td>0.914947</td>\n",
       "    </tr>\n",
       "    <tr>\n",
       "      <th>3</th>\n",
       "      <td>rbf</td>\n",
       "      <td>0:00:04.662807</td>\n",
       "      <td>0.917519</td>\n",
       "      <td>0.909525</td>\n",
       "    </tr>\n",
       "    <tr>\n",
       "      <th>4</th>\n",
       "      <td>linear</td>\n",
       "      <td>0:00:09.790691</td>\n",
       "      <td>0.903472</td>\n",
       "      <td>0.905155</td>\n",
       "    </tr>\n",
       "    <tr>\n",
       "      <th>5</th>\n",
       "      <td>sigmoid</td>\n",
       "      <td>0:00:02.140363</td>\n",
       "      <td>0.887239</td>\n",
       "      <td>0.887594</td>\n",
       "    </tr>\n",
       "    <tr>\n",
       "      <th>6</th>\n",
       "      <td>poly</td>\n",
       "      <td>N/A</td>\n",
       "      <td>N/A</td>\n",
       "      <td>N/A</td>\n",
       "    </tr>\n",
       "  </tbody>\n",
       "</table>\n",
       "</div>"
      ],
      "text/plain": [
       "           Model      Train Time Train Accuracy Test Accuracy\n",
       "0       logistic  0:00:11.356481       0.907634      0.909849\n",
       "1            KNN  0:00:00.025731       0.917693      0.906288\n",
       "2  decision tree  0:00:00.054439       0.916652      0.914947\n",
       "3            rbf  0:00:04.662807       0.917519      0.909525\n",
       "4         linear  0:00:09.790691       0.903472      0.905155\n",
       "5        sigmoid  0:00:02.140363       0.887239      0.887594\n",
       "6           poly             N/A            N/A           N/A"
      ]
     },
     "execution_count": 276,
     "metadata": {},
     "output_type": "execute_result"
    }
   ],
   "source": [
    "results2"
   ]
  },
  {
   "cell_type": "code",
   "execution_count": 278,
   "metadata": {},
   "outputs": [
    {
     "data": {
      "text/html": [
       "<div>\n",
       "<style scoped>\n",
       "    .dataframe tbody tr th:only-of-type {\n",
       "        vertical-align: middle;\n",
       "    }\n",
       "\n",
       "    .dataframe tbody tr th {\n",
       "        vertical-align: top;\n",
       "    }\n",
       "\n",
       "    .dataframe thead th {\n",
       "        text-align: right;\n",
       "    }\n",
       "</style>\n",
       "<table border=\"1\" class=\"dataframe\">\n",
       "  <thead>\n",
       "    <tr style=\"text-align: right;\">\n",
       "      <th></th>\n",
       "      <th>Model</th>\n",
       "      <th>Train Time</th>\n",
       "      <th>Train Accuracy</th>\n",
       "      <th>Test Accuracy</th>\n",
       "    </tr>\n",
       "  </thead>\n",
       "  <tbody>\n",
       "    <tr>\n",
       "      <th>0</th>\n",
       "      <td>logistic</td>\n",
       "      <td>0:00:00.152701</td>\n",
       "      <td>0.887239</td>\n",
       "      <td>0.887594</td>\n",
       "    </tr>\n",
       "    <tr>\n",
       "      <th>1</th>\n",
       "      <td>KNN</td>\n",
       "      <td>0:00:00.019566</td>\n",
       "      <td>0.890673</td>\n",
       "      <td>0.885328</td>\n",
       "    </tr>\n",
       "    <tr>\n",
       "      <th>2</th>\n",
       "      <td>decision tree</td>\n",
       "      <td>0:00:00.023270</td>\n",
       "      <td>0.887621</td>\n",
       "      <td>0.887432</td>\n",
       "    </tr>\n",
       "    <tr>\n",
       "      <th>3</th>\n",
       "      <td>rbf</td>\n",
       "      <td>0:00:03.157619</td>\n",
       "      <td>0.887239</td>\n",
       "      <td>0.887594</td>\n",
       "    </tr>\n",
       "    <tr>\n",
       "      <th>4</th>\n",
       "      <td>linear</td>\n",
       "      <td>0:00:10.780054</td>\n",
       "      <td>0.887239</td>\n",
       "      <td>0.887594</td>\n",
       "    </tr>\n",
       "    <tr>\n",
       "      <th>5</th>\n",
       "      <td>sigmoid</td>\n",
       "      <td>0:00:01.845890</td>\n",
       "      <td>0.887239</td>\n",
       "      <td>0.887594</td>\n",
       "    </tr>\n",
       "    <tr>\n",
       "      <th>6</th>\n",
       "      <td>poly</td>\n",
       "      <td>N/A</td>\n",
       "      <td>N/A</td>\n",
       "      <td>N/A</td>\n",
       "    </tr>\n",
       "  </tbody>\n",
       "</table>\n",
       "</div>"
      ],
      "text/plain": [
       "           Model      Train Time Train Accuracy Test Accuracy\n",
       "0       logistic  0:00:00.152701       0.887239      0.887594\n",
       "1            KNN  0:00:00.019566       0.890673      0.885328\n",
       "2  decision tree  0:00:00.023270       0.887621      0.887432\n",
       "3            rbf  0:00:03.157619       0.887239      0.887594\n",
       "4         linear  0:00:10.780054       0.887239      0.887594\n",
       "5        sigmoid  0:00:01.845890       0.887239      0.887594\n",
       "6           poly             N/A            N/A           N/A"
      ]
     },
     "execution_count": 278,
     "metadata": {},
     "output_type": "execute_result"
    }
   ],
   "source": [
    "results"
   ]
  },
  {
   "cell_type": "markdown",
   "metadata": {},
   "source": [
    "# Summary\n",
    "\n",
    "I decided to add additional features that included the last contact month of year, the last contact duration, the number of contacts performed during this campaign, the number of contacts performed before this campaign, the outcome of the previous marketing campaign, the euribor 3 month rate - daily indicator, and the number of unemployed quarterly indicator.  \n",
    "\n",
    "# KNN Nearest Neighbors\n",
    "I used GridSearchCV using 3, 4, 5, 6, and 7 as values for the number of neearest neighbors and found 5 to be the optimal.\n",
    "a\n",
    "# Decision Tree Depth\n",
    "I used GridSearchCV using 3, 4, 5, 6, and 7 as values for the depth of the decision tree and found 5 to be the optimal.\n",
    "\n",
    "# RBF\n",
    "I used GridSearchCV using 0.0001, 0.001, 0.01 as values for gamma and found 0.0001 to be the optimal\n",
    "\n",
    "# Linear\n",
    "I used GridSearchCV using 0.01, 0.1, 1.0 as values for gamma and found all to be equally optimal\n",
    "\n",
    "# Sigmoid \n",
    "I used GridSearchCV using 0.1, 1.0, 10 as values for gamma and found all to be equally optimal\n",
    "\n",
    "Overall there was a lift in performance with the best performing decision tree model with depth = 5.  Performing 3% better than a model that did not include the additional features in the training/test data set..\n"
   ]
  },
  {
   "cell_type": "code",
   "execution_count": null,
   "metadata": {},
   "outputs": [],
   "source": []
  },
  {
   "cell_type": "code",
   "execution_count": null,
   "metadata": {},
   "outputs": [],
   "source": []
  },
  {
   "cell_type": "markdown",
   "metadata": {},
   "source": [
    "##### Questions"
   ]
  }
 ],
 "metadata": {
  "kernelspec": {
   "display_name": "Python 3 (ipykernel)",
   "language": "python",
   "name": "python3"
  },
  "language_info": {
   "codemirror_mode": {
    "name": "ipython",
    "version": 3
   },
   "file_extension": ".py",
   "mimetype": "text/x-python",
   "name": "python",
   "nbconvert_exporter": "python",
   "pygments_lexer": "ipython3",
   "version": "3.12.4"
  },
  "widgets": {
   "application/vnd.jupyter.widget-state+json": {
    "state": {},
    "version_major": 2,
    "version_minor": 0
   }
  }
 },
 "nbformat": 4,
 "nbformat_minor": 4
}
