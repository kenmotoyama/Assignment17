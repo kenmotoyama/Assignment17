{
 "cells": [
  {
   "cell_type": "markdown",
   "metadata": {},
   "source": [
    "# Practical Application III: Comparing Classifiers\n",
    "\n",
    "**Overview**: In this practical application, your goal is to compare the performance of the classifiers we encountered in this section, namely K Nearest Neighbor, Logistic Regression, Decision Trees, and Support Vector Machines.  We will utilize a dataset related to marketing bank products over the telephone.  \n",
    "\n"
   ]
  },
  {
   "cell_type": "markdown",
   "metadata": {},
   "source": [
    "### Getting Started\n",
    "\n",
    "Our dataset comes from the UCI Machine Learning repository [link](https://archive.ics.uci.edu/ml/datasets/bank+marketing).  The data is from a Portugese banking institution and is a collection of the results of multiple marketing campaigns.  We will make use of the article accompanying the dataset [here](CRISP-DM-BANK.pdf) for more information on the data and features.\n",
    "\n"
   ]
  },
  {
   "cell_type": "markdown",
   "metadata": {},
   "source": [
    "### Problem 1: Understanding the Data\n",
    "\n",
    "To gain a better understanding of the data, please read the information provided in the UCI link above, and examine the **Materials and Methods** section of the paper.  How many marketing campaigns does this data represent?"
   ]
  },
  {
   "cell_type": "code",
   "execution_count": 341,
   "metadata": {},
   "outputs": [
    {
     "data": {
      "text/plain": [
       "17"
      ]
     },
     "execution_count": 341,
     "metadata": {},
     "output_type": "execute_result"
    }
   ],
   "source": [
    "17"
   ]
  },
  {
   "cell_type": "markdown",
   "metadata": {},
   "source": [
    "### Problem 2: Read in the Data\n",
    "\n",
    "Use pandas to read in the dataset `bank-additional-full.csv` and assign to a meaningful variable name."
   ]
  },
  {
   "cell_type": "code",
   "execution_count": 344,
   "metadata": {},
   "outputs": [],
   "source": [
    "import pandas as pd\n",
    "import datetime\n",
    "import seaborn as sns\n",
    "import numpy as np\n",
    "import matplotlib.pyplot as plt\n",
    "\n",
    "from sklearn.preprocessing import LabelEncoder\n",
    "from sklearn.model_selection import train_test_split, GridSearchCV\n",
    "from sklearn.linear_model import LogisticRegression\n",
    "from sklearn.metrics import accuracy_score\n",
    "\n",
    "from sklearn.svm import SVC\n",
    "from sklearn.neighbors import KNeighborsClassifier\n",
    "from sklearn.tree import DecisionTreeClassifier\n",
    "from sklearn.preprocessing import StandardScaler, PolynomialFeatures"
   ]
  },
  {
   "cell_type": "code",
   "execution_count": 346,
   "metadata": {},
   "outputs": [],
   "source": [
    "df = pd.read_csv('data/bank-additional-full.csv', sep = ';')"
   ]
  },
  {
   "cell_type": "code",
   "execution_count": 348,
   "metadata": {},
   "outputs": [
    {
     "data": {
      "text/html": [
       "<div>\n",
       "<style scoped>\n",
       "    .dataframe tbody tr th:only-of-type {\n",
       "        vertical-align: middle;\n",
       "    }\n",
       "\n",
       "    .dataframe tbody tr th {\n",
       "        vertical-align: top;\n",
       "    }\n",
       "\n",
       "    .dataframe thead th {\n",
       "        text-align: right;\n",
       "    }\n",
       "</style>\n",
       "<table border=\"1\" class=\"dataframe\">\n",
       "  <thead>\n",
       "    <tr style=\"text-align: right;\">\n",
       "      <th></th>\n",
       "      <th>age</th>\n",
       "      <th>job</th>\n",
       "      <th>marital</th>\n",
       "      <th>education</th>\n",
       "      <th>default</th>\n",
       "      <th>housing</th>\n",
       "      <th>loan</th>\n",
       "      <th>contact</th>\n",
       "      <th>month</th>\n",
       "      <th>day_of_week</th>\n",
       "      <th>...</th>\n",
       "      <th>campaign</th>\n",
       "      <th>pdays</th>\n",
       "      <th>previous</th>\n",
       "      <th>poutcome</th>\n",
       "      <th>emp.var.rate</th>\n",
       "      <th>cons.price.idx</th>\n",
       "      <th>cons.conf.idx</th>\n",
       "      <th>euribor3m</th>\n",
       "      <th>nr.employed</th>\n",
       "      <th>y</th>\n",
       "    </tr>\n",
       "  </thead>\n",
       "  <tbody>\n",
       "    <tr>\n",
       "      <th>0</th>\n",
       "      <td>56</td>\n",
       "      <td>housemaid</td>\n",
       "      <td>married</td>\n",
       "      <td>basic.4y</td>\n",
       "      <td>no</td>\n",
       "      <td>no</td>\n",
       "      <td>no</td>\n",
       "      <td>telephone</td>\n",
       "      <td>may</td>\n",
       "      <td>mon</td>\n",
       "      <td>...</td>\n",
       "      <td>1</td>\n",
       "      <td>999</td>\n",
       "      <td>0</td>\n",
       "      <td>nonexistent</td>\n",
       "      <td>1.1</td>\n",
       "      <td>93.994</td>\n",
       "      <td>-36.4</td>\n",
       "      <td>4.857</td>\n",
       "      <td>5191.0</td>\n",
       "      <td>no</td>\n",
       "    </tr>\n",
       "    <tr>\n",
       "      <th>1</th>\n",
       "      <td>57</td>\n",
       "      <td>services</td>\n",
       "      <td>married</td>\n",
       "      <td>high.school</td>\n",
       "      <td>unknown</td>\n",
       "      <td>no</td>\n",
       "      <td>no</td>\n",
       "      <td>telephone</td>\n",
       "      <td>may</td>\n",
       "      <td>mon</td>\n",
       "      <td>...</td>\n",
       "      <td>1</td>\n",
       "      <td>999</td>\n",
       "      <td>0</td>\n",
       "      <td>nonexistent</td>\n",
       "      <td>1.1</td>\n",
       "      <td>93.994</td>\n",
       "      <td>-36.4</td>\n",
       "      <td>4.857</td>\n",
       "      <td>5191.0</td>\n",
       "      <td>no</td>\n",
       "    </tr>\n",
       "    <tr>\n",
       "      <th>2</th>\n",
       "      <td>37</td>\n",
       "      <td>services</td>\n",
       "      <td>married</td>\n",
       "      <td>high.school</td>\n",
       "      <td>no</td>\n",
       "      <td>yes</td>\n",
       "      <td>no</td>\n",
       "      <td>telephone</td>\n",
       "      <td>may</td>\n",
       "      <td>mon</td>\n",
       "      <td>...</td>\n",
       "      <td>1</td>\n",
       "      <td>999</td>\n",
       "      <td>0</td>\n",
       "      <td>nonexistent</td>\n",
       "      <td>1.1</td>\n",
       "      <td>93.994</td>\n",
       "      <td>-36.4</td>\n",
       "      <td>4.857</td>\n",
       "      <td>5191.0</td>\n",
       "      <td>no</td>\n",
       "    </tr>\n",
       "    <tr>\n",
       "      <th>3</th>\n",
       "      <td>40</td>\n",
       "      <td>admin.</td>\n",
       "      <td>married</td>\n",
       "      <td>basic.6y</td>\n",
       "      <td>no</td>\n",
       "      <td>no</td>\n",
       "      <td>no</td>\n",
       "      <td>telephone</td>\n",
       "      <td>may</td>\n",
       "      <td>mon</td>\n",
       "      <td>...</td>\n",
       "      <td>1</td>\n",
       "      <td>999</td>\n",
       "      <td>0</td>\n",
       "      <td>nonexistent</td>\n",
       "      <td>1.1</td>\n",
       "      <td>93.994</td>\n",
       "      <td>-36.4</td>\n",
       "      <td>4.857</td>\n",
       "      <td>5191.0</td>\n",
       "      <td>no</td>\n",
       "    </tr>\n",
       "    <tr>\n",
       "      <th>4</th>\n",
       "      <td>56</td>\n",
       "      <td>services</td>\n",
       "      <td>married</td>\n",
       "      <td>high.school</td>\n",
       "      <td>no</td>\n",
       "      <td>no</td>\n",
       "      <td>yes</td>\n",
       "      <td>telephone</td>\n",
       "      <td>may</td>\n",
       "      <td>mon</td>\n",
       "      <td>...</td>\n",
       "      <td>1</td>\n",
       "      <td>999</td>\n",
       "      <td>0</td>\n",
       "      <td>nonexistent</td>\n",
       "      <td>1.1</td>\n",
       "      <td>93.994</td>\n",
       "      <td>-36.4</td>\n",
       "      <td>4.857</td>\n",
       "      <td>5191.0</td>\n",
       "      <td>no</td>\n",
       "    </tr>\n",
       "  </tbody>\n",
       "</table>\n",
       "<p>5 rows × 21 columns</p>\n",
       "</div>"
      ],
      "text/plain": [
       "   age        job  marital    education  default housing loan    contact  \\\n",
       "0   56  housemaid  married     basic.4y       no      no   no  telephone   \n",
       "1   57   services  married  high.school  unknown      no   no  telephone   \n",
       "2   37   services  married  high.school       no     yes   no  telephone   \n",
       "3   40     admin.  married     basic.6y       no      no   no  telephone   \n",
       "4   56   services  married  high.school       no      no  yes  telephone   \n",
       "\n",
       "  month day_of_week  ...  campaign  pdays  previous     poutcome emp.var.rate  \\\n",
       "0   may         mon  ...         1    999         0  nonexistent          1.1   \n",
       "1   may         mon  ...         1    999         0  nonexistent          1.1   \n",
       "2   may         mon  ...         1    999         0  nonexistent          1.1   \n",
       "3   may         mon  ...         1    999         0  nonexistent          1.1   \n",
       "4   may         mon  ...         1    999         0  nonexistent          1.1   \n",
       "\n",
       "   cons.price.idx  cons.conf.idx  euribor3m  nr.employed   y  \n",
       "0          93.994          -36.4      4.857       5191.0  no  \n",
       "1          93.994          -36.4      4.857       5191.0  no  \n",
       "2          93.994          -36.4      4.857       5191.0  no  \n",
       "3          93.994          -36.4      4.857       5191.0  no  \n",
       "4          93.994          -36.4      4.857       5191.0  no  \n",
       "\n",
       "[5 rows x 21 columns]"
      ]
     },
     "execution_count": 348,
     "metadata": {},
     "output_type": "execute_result"
    }
   ],
   "source": [
    "df.head()"
   ]
  },
  {
   "cell_type": "code",
   "execution_count": 350,
   "metadata": {},
   "outputs": [
    {
     "name": "stdout",
     "output_type": "stream",
     "text": [
      "<class 'pandas.core.frame.DataFrame'>\n",
      "RangeIndex: 41188 entries, 0 to 41187\n",
      "Data columns (total 21 columns):\n",
      " #   Column          Non-Null Count  Dtype  \n",
      "---  ------          --------------  -----  \n",
      " 0   age             41188 non-null  int64  \n",
      " 1   job             41188 non-null  object \n",
      " 2   marital         41188 non-null  object \n",
      " 3   education       41188 non-null  object \n",
      " 4   default         41188 non-null  object \n",
      " 5   housing         41188 non-null  object \n",
      " 6   loan            41188 non-null  object \n",
      " 7   contact         41188 non-null  object \n",
      " 8   month           41188 non-null  object \n",
      " 9   day_of_week     41188 non-null  object \n",
      " 10  duration        41188 non-null  int64  \n",
      " 11  campaign        41188 non-null  int64  \n",
      " 12  pdays           41188 non-null  int64  \n",
      " 13  previous        41188 non-null  int64  \n",
      " 14  poutcome        41188 non-null  object \n",
      " 15  emp.var.rate    41188 non-null  float64\n",
      " 16  cons.price.idx  41188 non-null  float64\n",
      " 17  cons.conf.idx   41188 non-null  float64\n",
      " 18  euribor3m       41188 non-null  float64\n",
      " 19  nr.employed     41188 non-null  float64\n",
      " 20  y               41188 non-null  object \n",
      "dtypes: float64(5), int64(5), object(11)\n",
      "memory usage: 6.6+ MB\n"
     ]
    }
   ],
   "source": [
    "df.info()"
   ]
  },
  {
   "cell_type": "markdown",
   "metadata": {},
   "source": [
    "### Problem 3: Understanding the Features\n",
    "\n",
    "\n",
    "Examine the data description below, and determine if any of the features are missing values or need to be coerced to a different data type.\n",
    "\n",
    "\n",
    "```\n",
    "Input variables:\n",
    "# bank client data:\n",
    "1 - age (numeric)\n",
    "2 - job : type of job (categorical: 'admin.','blue-collar','entrepreneur','housemaid','management','retired','self-employed','services','student','technician','unemployed','unknown')\n",
    "3 - marital : marital status (categorical: 'divorced','married','single','unknown'; note: 'divorced' means divorced or widowed)\n",
    "4 - education (categorical: 'basic.4y','basic.6y','basic.9y','high.school','illiterate','professional.course','university.degree','unknown')\n",
    "5 - default: has credit in default? (categorical: 'no','yes','unknown')\n",
    "6 - housing: has housing loan? (categorical: 'no','yes','unknown')\n",
    "7 - loan: has personal loan? (categorical: 'no','yes','unknown')\n",
    "# related with the last contact of the current campaign:\n",
    "8 - contact: contact communication type (categorical: 'cellular','telephone')\n",
    "9 - month: last contact month of year (categorical: 'jan', 'feb', 'mar', ..., 'nov', 'dec')\n",
    "10 - day_of_week: last contact day of the week (categorical: 'mon','tue','wed','thu','fri')\n",
    "11 - duration: last contact duration, in seconds (numeric). Important note: this attribute highly affects the output target (e.g., if duration=0 then y='no'). Yet, the duration is not known before a call is performed. Also, after the end of the call y is obviously known. Thus, this input should only be included for benchmark purposes and should be discarded if the intention is to have a realistic predictive model.\n",
    "# other attributes:\n",
    "12 - campaign: number of contacts performed during this campaign and for this client (numeric, includes last contact)\n",
    "13 - pdays: number of days that passed by after the client was last contacted from a previous campaign (numeric; 999 means client was not previously contacted)\n",
    "14 - previous: number of contacts performed before this campaign and for this client (numeric)\n",
    "15 - poutcome: outcome of the previous marketing campaign (categorical: 'failure','nonexistent','success')\n",
    "# social and economic context attributes\n",
    "16 - emp.var.rate: employment variation rate - quarterly indicator (numeric)\n",
    "17 - cons.price.idx: consumer price index - monthly indicator (numeric)\n",
    "18 - cons.conf.idx: consumer confidence index - monthly indicator (numeric)\n",
    "19 - euribor3m: euribor 3 month rate - daily indicator (numeric)\n",
    "20 - nr.employed: number of employees - quarterly indicator (numeric)\n",
    "\n",
    "Output variable (desired target):\n",
    "21 - y - has the client subscribed a term deposit? (binary: 'yes','no')\n",
    "```\n",
    "\n"
   ]
  },
  {
   "cell_type": "code",
   "execution_count": 353,
   "metadata": {},
   "outputs": [
    {
     "data": {
      "text/plain": [
       "False"
      ]
     },
     "execution_count": 353,
     "metadata": {},
     "output_type": "execute_result"
    }
   ],
   "source": [
    "# Check for NaN values\n",
    "\n",
    "df.isna().any().any()"
   ]
  },
  {
   "cell_type": "code",
   "execution_count": 355,
   "metadata": {},
   "outputs": [
    {
     "data": {
      "text/plain": [
       "False"
      ]
     },
     "execution_count": 355,
     "metadata": {},
     "output_type": "execute_result"
    }
   ],
   "source": [
    "# Check for null values\n",
    "\n",
    "df.isnull().values.any()"
   ]
  },
  {
   "cell_type": "markdown",
   "metadata": {},
   "source": [
    "The following fields will need to be coerced to a numerical data type\n",
    " 1   job             41188 non-null  object \n",
    " 2   marital         41188 non-null  object \n",
    " 3   education       41188 non-null  object \n",
    " 4   default         41188 non-null  object \n",
    " 5   housing         41188 non-null  object \n",
    " 6   loan            41188 non-null  object \n",
    " 7   contact         41188 non-null  object \n",
    " 8   month           41188 non-null  object \n",
    " 9   day_of_week     41188 non-null  object \n",
    " 14  poutcome        41188 non-null  object\n",
    "\n",
    "Checking for any null \n",
    "\n",
    " df.isnull().values.any()\n",
    "\n",
    "or NaN values \n",
    "\n",
    " df.isna().any().any()\n",
    "\n",
    "returns False, so no values are missing."
   ]
  },
  {
   "cell_type": "markdown",
   "metadata": {},
   "source": [
    "### Problem 4: Understanding the Task\n",
    "\n",
    "After examining the description and data, your goal now is to clearly state the *Business Objective* of the task.  State the objective below."
   ]
  },
  {
   "cell_type": "code",
   "execution_count": 359,
   "metadata": {},
   "outputs": [
    {
     "name": "stdout",
     "output_type": "stream",
     "text": [
      "<class 'pandas.core.frame.DataFrame'>\n",
      "RangeIndex: 41188 entries, 0 to 41187\n",
      "Data columns (total 21 columns):\n",
      " #   Column          Non-Null Count  Dtype  \n",
      "---  ------          --------------  -----  \n",
      " 0   age             41188 non-null  int64  \n",
      " 1   job             41188 non-null  object \n",
      " 2   marital         41188 non-null  object \n",
      " 3   education       41188 non-null  object \n",
      " 4   default         41188 non-null  object \n",
      " 5   housing         41188 non-null  object \n",
      " 6   loan            41188 non-null  object \n",
      " 7   contact         41188 non-null  object \n",
      " 8   month           41188 non-null  object \n",
      " 9   day_of_week     41188 non-null  object \n",
      " 10  duration        41188 non-null  int64  \n",
      " 11  campaign        41188 non-null  int64  \n",
      " 12  pdays           41188 non-null  int64  \n",
      " 13  previous        41188 non-null  int64  \n",
      " 14  poutcome        41188 non-null  object \n",
      " 15  emp.var.rate    41188 non-null  float64\n",
      " 16  cons.price.idx  41188 non-null  float64\n",
      " 17  cons.conf.idx   41188 non-null  float64\n",
      " 18  euribor3m       41188 non-null  float64\n",
      " 19  nr.employed     41188 non-null  float64\n",
      " 20  y               41188 non-null  object \n",
      "dtypes: float64(5), int64(5), object(11)\n",
      "memory usage: 6.6+ MB\n"
     ]
    }
   ],
   "source": [
    "# What are the data types\n",
    "\n",
    "df.info()"
   ]
  },
  {
   "cell_type": "markdown",
   "metadata": {},
   "source": [
    "The objective of this exercise is to build a model to predict if a client will subscribe to a term deposit."
   ]
  },
  {
   "cell_type": "markdown",
   "metadata": {},
   "source": [
    "Need to transform the objects into numerical values"
   ]
  },
  {
   "cell_type": "markdown",
   "metadata": {},
   "source": [
    "### Problem 5: Engineering Features\n",
    "\n",
    "Now that you understand your business objective, we will build a basic model to get started.  Before we can do this, we must work to encode the data.  Using just the bank information features, prepare the features and target column for modeling with appropriate encoding and transformations."
   ]
  },
  {
   "cell_type": "code",
   "execution_count": 364,
   "metadata": {},
   "outputs": [],
   "source": [
    "# The following fields were objects in the bank information section\n",
    "# 1   job             41188 non-null  object \n",
    "# 2   marital         41188 non-null  object \n",
    "# 3   education       41188 non-null  object \n",
    "# 4   default         41188 non-null  object \n",
    "# 5   housing         41188 non-null  object \n",
    "# 6   loan            41188 non-null  object \n",
    "\n",
    "\n",
    "le = LabelEncoder()\n",
    "df['job_encoded'] = le.fit_transform(df['job'])\n",
    "df['marital_encoded'] = le.fit_transform(df['marital'])\n",
    "df['education_encoded'] = le.fit_transform(df['education'])\n",
    "df['default_encoded'] = le.fit_transform(df['default'])\n",
    "df['housing_encoded'] = le.fit_transform(df['housing'])\n",
    "df['loan_encoded'] = le.fit_transform(df['loan'])\n",
    "df['y_encoded'] = le.fit_transform(df['y'])"
   ]
  },
  {
   "cell_type": "code",
   "execution_count": 366,
   "metadata": {},
   "outputs": [
    {
     "data": {
      "text/plain": [
       "0        0\n",
       "1        0\n",
       "2        0\n",
       "3        0\n",
       "4        0\n",
       "        ..\n",
       "41183    1\n",
       "41184    0\n",
       "41185    0\n",
       "41186    1\n",
       "41187    0\n",
       "Name: y_encoded, Length: 41188, dtype: int64"
      ]
     },
     "execution_count": 366,
     "metadata": {},
     "output_type": "execute_result"
    }
   ],
   "source": [
    "df['y_encoded']"
   ]
  },
  {
   "cell_type": "markdown",
   "metadata": {},
   "source": [
    "### Problem 6: Train/Test Split\n",
    "\n",
    "With your data prepared, split it into a train and test set."
   ]
  },
  {
   "cell_type": "code",
   "execution_count": 369,
   "metadata": {},
   "outputs": [],
   "source": [
    "# Create training and testing data set from bank information features\n",
    "\n",
    "X_train, X_test, y_train, y_test = train_test_split(df[['age',\\\n",
    "                                                        'job_encoded',\\\n",
    "                                                        'marital_encoded',\\\n",
    "                                                        'education_encoded',\\\n",
    "                                                        'default_encoded',\\\n",
    "                                                        'housing_encoded',\\\n",
    "                                                        'loan_encoded']], df['y_encoded'], test_size = 0.3, random_state = 42)"
   ]
  },
  {
   "cell_type": "markdown",
   "metadata": {},
   "source": [
    "### Problem 7: A Baseline Model\n",
    "\n",
    "Before we build our first model, we want to establish a baseline.  What is the baseline performance that our classifier should aim to beat?"
   ]
  },
  {
   "cell_type": "code",
   "execution_count": 372,
   "metadata": {},
   "outputs": [
    {
     "data": {
      "text/plain": [
       "y_encoded\n",
       "0    0.887346\n",
       "1    0.112654\n",
       "Name: proportion, dtype: float64"
      ]
     },
     "execution_count": 372,
     "metadata": {},
     "output_type": "execute_result"
    }
   ],
   "source": [
    "# What is the percentage time the client subscribes to a term deposit?\n",
    "\n",
    "df['y_encoded'].value_counts(normalize=True)"
   ]
  },
  {
   "cell_type": "markdown",
   "metadata": {},
   "source": [
    "One baseline classifier for the binary outcome of a client will subscribe to a term deposit would model the outcome to be 'no'.  This would give us accuracy of 88.73%."
   ]
  },
  {
   "cell_type": "markdown",
   "metadata": {},
   "source": [
    "### Problem 8: A Simple Model\n",
    "\n",
    "Use Logistic Regression to build a basic model on your data.  "
   ]
  },
  {
   "cell_type": "code",
   "execution_count": 376,
   "metadata": {},
   "outputs": [],
   "source": [
    "# Run logistic regression and track timing\n",
    "\n",
    "log_reg_start_time = datetime.datetime.now()\n",
    "log_reg = LogisticRegression(max_iter=1000).fit(X_train, y_train)\n",
    "log_reg_end_time = datetime.datetime.now()\n",
    "log_time = log_reg_end_time - log_reg_start_time"
   ]
  },
  {
   "cell_type": "markdown",
   "metadata": {},
   "source": [
    "### Problem 9: Score the Model\n",
    "\n",
    "What is the accuracy of your model?"
   ]
  },
  {
   "cell_type": "code",
   "execution_count": 379,
   "metadata": {},
   "outputs": [],
   "source": [
    "# Evaluate accuracy on training and test data set\n",
    "\n",
    "log_train_accuracy = accuracy_score(log_reg.predict(X_train), y_train)\n",
    "log_test_accuracy = accuracy_score(log_reg.predict(X_test), y_test)"
   ]
  },
  {
   "cell_type": "markdown",
   "metadata": {},
   "source": [
    "### Problem 10: Model Comparisons\n",
    "\n",
    "Now, we aim to compare the performance of the Logistic Regression model to our KNN algorithm, Decision Tree, and SVM models.  Using the default settings for each of the models, fit and score each.  Also, be sure to compare the fit time of each of the models.  Present your findings in a `DataFrame` similar to that below:\n",
    "\n",
    "| Model | Train Time | Train Accuracy | Test Accuracy |\n",
    "| ----- | ---------- | -------------  | -----------   |\n",
    "|     |    |.     |.     |"
   ]
  },
  {
   "cell_type": "code",
   "execution_count": 382,
   "metadata": {},
   "outputs": [
    {
     "data": {
      "text/plain": [
       "0.8871894472768471"
      ]
     },
     "execution_count": 382,
     "metadata": {},
     "output_type": "execute_result"
    }
   ],
   "source": [
    "# Run KNN and track timing and accuracy\n",
    "\n",
    "knn_reg_start_time = datetime.datetime.now()\n",
    "knn_reg = KNeighborsClassifier(n_neighbors=8).fit(X_train, y_train)\n",
    "knn_reg_end_time = datetime.datetime.now()\n",
    "knn_time = knn_reg_end_time - knn_reg_start_time\n",
    "knn_train_accuracy = accuracy_score(knn_reg.predict(X_train), y_train)\n",
    "knn_test_accuracy = accuracy_score(knn_reg.predict(X_test), y_test)\n",
    "knn_test_accuracy"
   ]
  },
  {
   "cell_type": "code",
   "execution_count": 384,
   "metadata": {},
   "outputs": [
    {
     "data": {
      "text/plain": [
       "0.8876750020231448"
      ]
     },
     "execution_count": 384,
     "metadata": {},
     "output_type": "execute_result"
    }
   ],
   "source": [
    "# Create Decision Tree and track timing and accuracy\n",
    "\n",
    "dec_reg_start_time = datetime.datetime.now()\n",
    "dec_reg = DecisionTreeClassifier(max_depth=4).fit(X_train, y_train)\n",
    "dec_reg_end_time = datetime.datetime.now()\n",
    "dec_time = dec_reg_end_time - dec_reg_start_time\n",
    "dec_train_accuracy = accuracy_score(dec_reg.predict(X_train), y_train)\n",
    "dec_test_accuracy = accuracy_score(dec_reg.predict(X_test), y_test)\n",
    "dec_test_accuracy"
   ]
  },
  {
   "cell_type": "code",
   "execution_count": 386,
   "metadata": {},
   "outputs": [
    {
     "data": {
      "text/plain": [
       "{'mean_fit_time': array([1.81285009, 2.12215638, 4.69139719]),\n",
       " 'std_fit_time': array([0.02897152, 0.08485194, 0.47733268]),\n",
       " 'mean_score_time': array([1.15884604, 1.24805841, 1.39494758]),\n",
       " 'std_score_time': array([0.00940004, 0.01960085, 0.01590897]),\n",
       " 'param_gamma': masked_array(data=[0.0001, 0.001, 0.01],\n",
       "              mask=[False, False, False],\n",
       "        fill_value=1e+20),\n",
       " 'param_kernel': masked_array(data=['rbf', 'rbf', 'rbf'],\n",
       "              mask=[False, False, False],\n",
       "        fill_value='?',\n",
       "             dtype=object),\n",
       " 'params': [{'gamma': 0.0001, 'kernel': 'rbf'},\n",
       "  {'gamma': 0.001, 'kernel': 'rbf'},\n",
       "  {'gamma': 0.01, 'kernel': 'rbf'}],\n",
       " 'split0_test_score': array([0.88711635, 0.88711635, 0.88711635]),\n",
       " 'split1_test_score': array([0.8872702, 0.8872702, 0.8872702]),\n",
       " 'split2_test_score': array([0.8872702, 0.8872702, 0.8872702]),\n",
       " 'split3_test_score': array([0.8872702, 0.8872702, 0.8872702]),\n",
       " 'split4_test_score': array([0.8872702 , 0.8872702 , 0.88709677]),\n",
       " 'mean_test_score': array([0.88723943, 0.88723943, 0.88720475]),\n",
       " 'std_test_score': array([6.15411968e-05, 6.15411968e-05, 8.04064361e-05]),\n",
       " 'rank_test_score': array([1, 1, 3], dtype=int32)}"
      ]
     },
     "execution_count": 386,
     "metadata": {},
     "output_type": "execute_result"
    }
   ],
   "source": [
    "# Do RBF grid search to find optimal gamma\n",
    "\n",
    "params = {'kernel': ['rbf'],\n",
    "         'gamma': [0.0001, 0.001, 0.01]}\n",
    "grid = GridSearchCV(SVC(), param_grid=params).fit(X_train, y_train)\n",
    "grid_score = grid.score(X_test, y_test)\n",
    "grid.cv_results_"
   ]
  },
  {
   "cell_type": "code",
   "execution_count": 388,
   "metadata": {},
   "outputs": [
    {
     "data": {
      "text/plain": [
       "0.8875940762320952"
      ]
     },
     "execution_count": 388,
     "metadata": {},
     "output_type": "execute_result"
    }
   ],
   "source": [
    "# Run RBF SVC using optimal gamma of 0.001\n",
    "# and keep track of timing and acuracy\n",
    "\n",
    "rbf_start_time = datetime.datetime.now()\n",
    "rbf_mod = SVC(kernel='rbf', gamma=0.001).fit(X_train,y_train)\n",
    "rbf_end_time = datetime.datetime.now()\n",
    "rbf_time = rbf_end_time - rbf_start_time\n",
    "rbf_train_accuracy = accuracy_score(rbf_mod.predict(X_train), y_train)\n",
    "rbf_test_accuracy = accuracy_score(rbf_mod.predict(X_test), y_test)\n",
    "rbf_test_accuracy"
   ]
  },
  {
   "cell_type": "code",
   "execution_count": 390,
   "metadata": {},
   "outputs": [
    {
     "data": {
      "text/plain": [
       "{'mean_fit_time': array([6.94349194, 6.91933761, 6.91375751]),\n",
       " 'std_fit_time': array([0.0353601 , 0.04685765, 0.04211901]),\n",
       " 'mean_score_time': array([0.29019604, 0.29038353, 0.29007478]),\n",
       " 'std_score_time': array([0.00073297, 0.00085238, 0.00075913]),\n",
       " 'param_gamma': masked_array(data=[0.01, 0.1, 1.0],\n",
       "              mask=[False, False, False],\n",
       "        fill_value=1e+20),\n",
       " 'param_kernel': masked_array(data=['linear', 'linear', 'linear'],\n",
       "              mask=[False, False, False],\n",
       "        fill_value='?',\n",
       "             dtype=object),\n",
       " 'params': [{'gamma': 0.01, 'kernel': 'linear'},\n",
       "  {'gamma': 0.1, 'kernel': 'linear'},\n",
       "  {'gamma': 1.0, 'kernel': 'linear'}],\n",
       " 'split0_test_score': array([0.88711635, 0.88711635, 0.88711635]),\n",
       " 'split1_test_score': array([0.8872702, 0.8872702, 0.8872702]),\n",
       " 'split2_test_score': array([0.8872702, 0.8872702, 0.8872702]),\n",
       " 'split3_test_score': array([0.8872702, 0.8872702, 0.8872702]),\n",
       " 'split4_test_score': array([0.8872702, 0.8872702, 0.8872702]),\n",
       " 'mean_test_score': array([0.88723943, 0.88723943, 0.88723943]),\n",
       " 'std_test_score': array([6.15411968e-05, 6.15411968e-05, 6.15411968e-05]),\n",
       " 'rank_test_score': array([1, 1, 1], dtype=int32)}"
      ]
     },
     "execution_count": 390,
     "metadata": {},
     "output_type": "execute_result"
    }
   ],
   "source": [
    "# Do linear grid search to find optimal gamma\n",
    "\n",
    "params = {'kernel': ['linear'],\n",
    "         'gamma': [0.01, 0.1, 1.0]}\n",
    "grid = GridSearchCV(SVC(), param_grid=params).fit(X_train, y_train)\n",
    "grid_score = grid.score(X_test, y_test)\n",
    "grid.cv_results_"
   ]
  },
  {
   "cell_type": "code",
   "execution_count": 392,
   "metadata": {},
   "outputs": [
    {
     "data": {
      "text/plain": [
       "0.8875940762320952"
      ]
     },
     "execution_count": 392,
     "metadata": {},
     "output_type": "execute_result"
    }
   ],
   "source": [
    "# Do linear SVC using optinal gamma of 0.01\n",
    "# and keep track of timing and acuracy\n",
    "\n",
    "lin_start_time = datetime.datetime.now()\n",
    "lin_mod = SVC(kernel='linear', gamma=0.01).fit(X_train,y_train)\n",
    "lin_end_time = datetime.datetime.now()\n",
    "lin_time = lin_end_time - lin_start_time\n",
    "lin_train_accuracy = accuracy_score(lin_mod.predict(X_train), y_train)\n",
    "lin_test_accuracy = accuracy_score(lin_mod.predict(X_test), y_test)\n",
    "lin_test_accuracy"
   ]
  },
  {
   "cell_type": "code",
   "execution_count": 393,
   "metadata": {},
   "outputs": [
    {
     "data": {
      "text/plain": [
       "{'mean_fit_time': array([1.18730063, 1.17324271, 1.17031913]),\n",
       " 'std_fit_time': array([0.0295215 , 0.00240128, 0.00277298]),\n",
       " 'mean_score_time': array([0.30721679, 0.30662713, 0.30668931]),\n",
       " 'std_score_time': array([0.00019037, 0.00058516, 0.00046699]),\n",
       " 'param_gamma': masked_array(data=[0.1, 1.0, 10.0],\n",
       "              mask=[False, False, False],\n",
       "        fill_value=1e+20),\n",
       " 'param_kernel': masked_array(data=['sigmoid', 'sigmoid', 'sigmoid'],\n",
       "              mask=[False, False, False],\n",
       "        fill_value='?',\n",
       "             dtype=object),\n",
       " 'params': [{'gamma': 0.1, 'kernel': 'sigmoid'},\n",
       "  {'gamma': 1.0, 'kernel': 'sigmoid'},\n",
       "  {'gamma': 10, 'kernel': 'sigmoid'}],\n",
       " 'split0_test_score': array([0.88711635, 0.88711635, 0.88711635]),\n",
       " 'split1_test_score': array([0.8872702, 0.8872702, 0.8872702]),\n",
       " 'split2_test_score': array([0.8872702, 0.8872702, 0.8872702]),\n",
       " 'split3_test_score': array([0.8872702, 0.8872702, 0.8872702]),\n",
       " 'split4_test_score': array([0.8872702, 0.8872702, 0.8872702]),\n",
       " 'mean_test_score': array([0.88723943, 0.88723943, 0.88723943]),\n",
       " 'std_test_score': array([6.15411968e-05, 6.15411968e-05, 6.15411968e-05]),\n",
       " 'rank_test_score': array([1, 1, 1], dtype=int32)}"
      ]
     },
     "execution_count": 393,
     "metadata": {},
     "output_type": "execute_result"
    }
   ],
   "source": [
    "# Do sigmoid grid search to find optimal gamma\n",
    "\n",
    "params = {'kernel': ['sigmoid'],\n",
    "         'gamma': [0.1, 1.0, 10]}\n",
    "grid = GridSearchCV(SVC(), param_grid=params).fit(X_train, y_train)\n",
    "grid_score = grid.score(X_test, y_test)\n",
    "grid.cv_results_"
   ]
  },
  {
   "cell_type": "code",
   "execution_count": 394,
   "metadata": {},
   "outputs": [
    {
     "data": {
      "text/plain": [
       "0.8875940762320952"
      ]
     },
     "execution_count": 394,
     "metadata": {},
     "output_type": "execute_result"
    }
   ],
   "source": [
    "# Do sigmoid SVC using optinal gamma of 0.1\n",
    "# and keep track of timing and acuracy\n",
    "\n",
    "sig_start_time = datetime.datetime.now()\n",
    "sig_mod = SVC(kernel='sigmoid', gamma=0.1).fit(X_train,y_train)\n",
    "sig_end_time = datetime.datetime.now()\n",
    "sig_time = sig_end_time - sig_start_time\n",
    "sig_train_accuracy = accuracy_score(sig_mod.predict(X_train), y_train)\n",
    "sig_test_accuracy = accuracy_score(sig_mod.predict(X_test), y_test)\n",
    "sig_test_accuracy"
   ]
  },
  {
   "cell_type": "code",
   "execution_count": 395,
   "metadata": {},
   "outputs": [],
   "source": [
    "#params = {'kernel': ['poly'],\n",
    "#         'gamma': [0.1]}\n",
    "#grid = GridSearchCV(SVC(), param_grid=params).fit(X_train, y_train)\n",
    "#grid_score = grid.score(X_test, y_test)\n",
    "#poly_time = poly_end_time - poly_start_time\n",
    "#grid.cv_results_"
   ]
  },
  {
   "cell_type": "code",
   "execution_count": 408,
   "metadata": {},
   "outputs": [],
   "source": [
    "model = [\"logistic\", \"KNN\", \"decision tree\", \"rbf\", \"linear\", \"sigmoid\", \"poly\"]\n",
    "train_time = [log_time, knn_time, dec_time, rbf_time, lin_time, sig_time, \"N/A\"]\n",
    "train_accuracy = [log_train_accuracy, knn_train_accuracy, dec_train_accuracy, \\\n",
    "                  rbf_train_accuracy, lin_train_accuracy, sig_train_accuracy, \"N/A\"]\n",
    "test_accuracy = [log_test_accuracy, knn_test_accuracy, dec_test_accuracy, \\\n",
    "                 rbf_test_accuracy, lin_test_accuracy, sig_test_accuracy, \"N/A\"]\n",
    "results_dict = {'Model': model, 'Train Time': train_time, 'Train Accuracy': train_accuracy, 'Test Accuracy': test_accuracy}\n",
    "results = pd.DataFrame(results_dict)"
   ]
  },
  {
   "cell_type": "code",
   "execution_count": 410,
   "metadata": {
    "scrolled": true
   },
   "outputs": [
    {
     "data": {
      "text/html": [
       "<div>\n",
       "<style scoped>\n",
       "    .dataframe tbody tr th:only-of-type {\n",
       "        vertical-align: middle;\n",
       "    }\n",
       "\n",
       "    .dataframe tbody tr th {\n",
       "        vertical-align: top;\n",
       "    }\n",
       "\n",
       "    .dataframe thead th {\n",
       "        text-align: right;\n",
       "    }\n",
       "</style>\n",
       "<table border=\"1\" class=\"dataframe\">\n",
       "  <thead>\n",
       "    <tr style=\"text-align: right;\">\n",
       "      <th></th>\n",
       "      <th>Model</th>\n",
       "      <th>Train Time</th>\n",
       "      <th>Train Accuracy</th>\n",
       "      <th>Test Accuracy</th>\n",
       "    </tr>\n",
       "  </thead>\n",
       "  <tbody>\n",
       "    <tr>\n",
       "      <th>0</th>\n",
       "      <td>logistic</td>\n",
       "      <td>0:00:00.148627</td>\n",
       "      <td>0.887239</td>\n",
       "      <td>0.887594</td>\n",
       "    </tr>\n",
       "    <tr>\n",
       "      <th>1</th>\n",
       "      <td>KNN</td>\n",
       "      <td>0:00:00.019516</td>\n",
       "      <td>0.890014</td>\n",
       "      <td>0.887189</td>\n",
       "    </tr>\n",
       "    <tr>\n",
       "      <th>2</th>\n",
       "      <td>decision tree</td>\n",
       "      <td>0:00:00.021877</td>\n",
       "      <td>0.887725</td>\n",
       "      <td>0.887675</td>\n",
       "    </tr>\n",
       "    <tr>\n",
       "      <th>3</th>\n",
       "      <td>rbf</td>\n",
       "      <td>0:00:03.175321</td>\n",
       "      <td>0.887239</td>\n",
       "      <td>0.887594</td>\n",
       "    </tr>\n",
       "    <tr>\n",
       "      <th>4</th>\n",
       "      <td>linear</td>\n",
       "      <td>0:00:10.822758</td>\n",
       "      <td>0.887239</td>\n",
       "      <td>0.887594</td>\n",
       "    </tr>\n",
       "    <tr>\n",
       "      <th>5</th>\n",
       "      <td>sigmoid</td>\n",
       "      <td>0:00:01.827863</td>\n",
       "      <td>0.887239</td>\n",
       "      <td>0.887594</td>\n",
       "    </tr>\n",
       "    <tr>\n",
       "      <th>6</th>\n",
       "      <td>poly</td>\n",
       "      <td>N/A</td>\n",
       "      <td>N/A</td>\n",
       "      <td>N/A</td>\n",
       "    </tr>\n",
       "  </tbody>\n",
       "</table>\n",
       "</div>"
      ],
      "text/plain": [
       "           Model      Train Time Train Accuracy Test Accuracy\n",
       "0       logistic  0:00:00.148627       0.887239      0.887594\n",
       "1            KNN  0:00:00.019516       0.890014      0.887189\n",
       "2  decision tree  0:00:00.021877       0.887725      0.887675\n",
       "3            rbf  0:00:03.175321       0.887239      0.887594\n",
       "4         linear  0:00:10.822758       0.887239      0.887594\n",
       "5        sigmoid  0:00:01.827863       0.887239      0.887594\n",
       "6           poly             N/A            N/A           N/A"
      ]
     },
     "execution_count": 410,
     "metadata": {},
     "output_type": "execute_result"
    }
   ],
   "source": [
    "results"
   ]
  },
  {
   "cell_type": "code",
   "execution_count": 434,
   "metadata": {},
   "outputs": [
    {
     "data": {
      "text/plain": [
       "0\n",
       "0    12357\n",
       "Name: count, dtype: int64"
      ]
     },
     "execution_count": 434,
     "metadata": {},
     "output_type": "execute_result"
    }
   ],
   "source": [
    "pd.DataFrame(log_reg.predict(X_test)).value_counts()"
   ]
  },
  {
   "cell_type": "code",
   "execution_count": 430,
   "metadata": {},
   "outputs": [
    {
     "data": {
      "text/plain": [
       "y_encoded\n",
       "0    10968\n",
       "1     1389\n",
       "Name: count, dtype: int64"
      ]
     },
     "execution_count": 430,
     "metadata": {},
     "output_type": "execute_result"
    }
   ],
   "source": [
    "y_test.value_counts()"
   ]
  },
  {
   "cell_type": "code",
   "execution_count": 438,
   "metadata": {},
   "outputs": [
    {
     "data": {
      "image/png": "[encoded data removed]",
      "text/plain": [
       "<Figure size 640x480 with 1 Axes>"
      ]
     },
     "metadata": {},
     "output_type": "display_data"
    }
   ],
   "source": [
    "sns.regplot(x=y_test, y=log_reg.predict(X_test))\n",
    "plt.xlabel(\"Actual Values\")\n",
    "plt.ylabel(\"Predicted Values\")\n",
    "plt.title(\"Actual vs Predicted Values\")\n",
    "plt.show()"
   ]
  },
  {
   "cell_type": "markdown",
   "metadata": {},
   "source": [
    "# Summary\n",
    "\n",
    "Overall, some of the models performed similarly, particularly the logistic, rbf, linear and sigmoid models had the same test accuracy of 88.76%.  KNN performed better for the training dataset, but performed worse on the test accuracy, possibly due to overfitting.  The decision tree accuracy also performed better on the training dateset, but performed worse on the test accuracy.\n",
    "\n",
    "# Logistic Regression\n",
    "Very fast run time <1s with high training accuracy and higher testing accuracy.\n",
    "\n",
    "# KNN Nearest Neighbors\n",
    "Fastest run time <1s and had slightly higher training versus testing accuracy, possibly due to overfitting.\n",
    "\n",
    "# Decision Tree Depth\n",
    "Very fast run time <1s with similar training accuracy and testing accuracy.\n",
    "\n",
    "# RBF\n",
    "Run time of about 3s with similar training accuracy and testing accuracy.\n",
    "\n",
    "# Linear\n",
    "Slower run time of about 10s with similar training accuracy and testing accuracy.\n",
    "\n",
    "# Sigmoid \n",
    "Run time of < 2s with similar training accuracy and testing accuracy.\n"
   ]
  },
  {
   "cell_type": "markdown",
   "metadata": {},
   "source": [
    "### Problem 11: Improving the Model\n",
    "\n",
    "Now that we have some basic models on the board, we want to try to improve these.  Below, we list a few things to explore in this pursuit.\n",
    "\n",
    "- More feature engineering and exploration.  For example, should we keep the gender feature?  Why or why not?\n",
    "- Hyperparameter tuning and grid search.  All of our models have additional hyperparameters to tune and explore.  For example the number of neighbors in KNN or the maximum depth of a Decision Tree.  \n",
    "- Adjust your performance metric"
   ]
  },
  {
   "cell_type": "markdown",
   "metadata": {},
   "source": [
    "Examine the data description below, and determine if any of the features are missing values or need to be coerced to a different data type.\n",
    "\n",
    "\n",
    "```\n",
    "Input variables:\n",
    "# bank client data:\n",
    "1 - age (numeric)\n",
    "2 - job : type of job (categorical: 'admin.','blue-collar','entrepreneur','housemaid','management','retired','self-employed','services','student','technician','unemployed','unknown')\n",
    "3 - marital : marital status (categorical: 'divorced','married','single','unknown'; note: 'divorced' means divorced or widowed)\n",
    "4 - education (categorical: 'basic.4y','basic.6y','basic.9y','high.school','illiterate','professional.course','university.degree','unknown')\n",
    "5 - default: has credit in default? (categorical: 'no','yes','unknown')\n",
    "6 - housing: has housing loan? (categorical: 'no','yes','unknown')\n",
    "7 - loan: has personal loan? (categorical: 'no','yes','unknown')\n",
    "# related with the last contact of the current campaign:\n",
    "8 - contact: contact communication type (categorical: 'cellular','telephone')\n",
    "9 - month: last contact month of year (categorical: 'jan', 'feb', 'mar', ..., 'nov', 'dec')\n",
    "10 - day_of_week: last contact day of the week (categorical: 'mon','tue','wed','thu','fri')\n",
    "11 - duration: last contact duration, in seconds (numeric). Important note: this attribute highly affects the output target (e.g., if duration=0 then y='no'). Yet, the duration is not known before a call is performed. Also, after the end of the call y is obviously known. Thus, this input should only be included for benchmark purposes and should be discarded if the intention is to have a realistic predictive model.\n",
    "# other attributes:\n",
    "12 - campaign: number of contacts performed during this campaign and for this client (numeric, includes last contact)\n",
    "13 - pdays: number of days that passed by after the client was last contacted from a previous campaign (numeric; 999 means client was not previously contacted)\n",
    "14 - previous: number of contacts performed before this campaign and for this client (numeric)\n",
    "15 - poutcome: outcome of the previous marketing campaign (categorical: 'failure','nonexistent','success')\n",
    "# social and economic context attributes\n",
    "16 - emp.var.rate: employment variation rate - quarterly indicator (numeric)\n",
    "17 - cons.price.idx: consumer price index - monthly indicator (numeric)\n",
    "18 - cons.conf.idx: consumer confidence index - monthly indicator (numeric)\n",
    "19 - euribor3m: euribor 3 month rate - daily indicator (numeric)\n",
    "20 - nr.employed: number of employees - quarterly indicator (numeric)\n",
    "\n",
    "Output variable (desired target):\n",
    "21 - y - has the client subscribed a term deposit? (binary: 'yes','no')"
   ]
  },
  {
   "cell_type": "code",
   "execution_count": 443,
   "metadata": {},
   "outputs": [],
   "source": [
    "# encode last contact and outcome of previous campaign\n",
    "\n",
    "df['month_encoded'] = le.fit_transform(df['month'])\n",
    "df['poutcome_encoded'] = le.fit_transform(df['poutcome'])"
   ]
  },
  {
   "cell_type": "code",
   "execution_count": 445,
   "metadata": {},
   "outputs": [],
   "source": [
    "# Create training and testing data set from bank information features\n",
    "\n",
    "X_train2, X_test2, y_train2, y_test2 = train_test_split(df[['age',\\\n",
    "                                                        'job_encoded',\\\n",
    "                                                        'marital_encoded',\\\n",
    "                                                        'education_encoded',\\\n",
    "                                                        'default_encoded',\\\n",
    "                                                        'housing_encoded',\\\n",
    "                                                        'loan_encoded',\\\n",
    "                                                        'month_encoded',\\\n",
    "                                                        'duration',\\\n",
    "                                                        'campaign',\\\n",
    "                                                        'previous',\\\n",
    "                                                        'poutcome_encoded',\\\n",
    "                                                        'emp.var.rate',\\\n",
    "                                                        'cons.price.idx',\\\n",
    "                                                        'cons.conf.idx',\\\n",
    "                                                        'euribor3m',\\\n",
    "                                                        'nr.employed']], df['y_encoded'], test_size = 0.3, random_state = 42)"
   ]
  },
  {
   "cell_type": "code",
   "execution_count": 447,
   "metadata": {},
   "outputs": [
    {
     "data": {
      "text/plain": [
       "0.9091203366512908"
      ]
     },
     "execution_count": 447,
     "metadata": {},
     "output_type": "execute_result"
    }
   ],
   "source": [
    "# Run logistic regression and track timing\n",
    "\n",
    "log_reg_start_time = datetime.datetime.now()\n",
    "log_reg = LogisticRegression(max_iter=5000).fit(X_train2, y_train2)\n",
    "log_reg_end_time = datetime.datetime.now()\n",
    "log_time = log_reg_end_time - log_reg_start_time\n",
    "\n",
    "# Evaluate accuracy on training and test data set\n",
    "\n",
    "log_train_accuracy = accuracy_score(log_reg.predict(X_train2), y_train2)\n",
    "log_test_accuracy = accuracy_score(log_reg.predict(X_test2), y_test2)\n",
    "log_test_accuracy"
   ]
  },
  {
   "cell_type": "code",
   "execution_count": 449,
   "metadata": {},
   "outputs": [
    {
     "data": {
      "text/plain": [
       "{'mean_fit_time': array([0.00445919, 0.00343795, 0.00333562, 0.00334687, 0.00329618,\n",
       "        0.00333667, 0.00336404, 0.00326757, 0.00328259]),\n",
       " 'std_fit_time': array([2.10695853e-03, 8.16733667e-05, 7.38510699e-05, 8.54211414e-05,\n",
       "        6.41983630e-05, 4.36411517e-05, 3.74608321e-05, 4.22482566e-05,\n",
       "        2.66953867e-05]),\n",
       " 'mean_score_time': array([0.18236322, 0.19482808, 0.18204942, 0.1839592 , 0.18263779,\n",
       "        0.18679767, 0.21030922, 0.19298282, 0.19206176]),\n",
       " 'std_score_time': array([0.00571393, 0.01525743, 0.00148595, 0.00305803, 0.0019527 ,\n",
       "        0.00359849, 0.01355805, 0.00572959, 0.00280472]),\n",
       " 'param_n_neighbors': masked_array(data=[36, 37, 38, 39, 40, 41, 42, 43, 44],\n",
       "              mask=[False, False, False, False, False, False, False, False,\n",
       "                    False],\n",
       "        fill_value=999999),\n",
       " 'params': [{'n_neighbors': 36},\n",
       "  {'n_neighbors': 37},\n",
       "  {'n_neighbors': 38},\n",
       "  {'n_neighbors': 39},\n",
       "  {'n_neighbors': 40},\n",
       "  {'n_neighbors': 41},\n",
       "  {'n_neighbors': 42},\n",
       "  {'n_neighbors': 43},\n",
       "  {'n_neighbors': 44}],\n",
       " 'split0_test_score': array([0.90341599, 0.90393619, 0.90428299, 0.90445639, 0.90445639,\n",
       "        0.90497659, 0.90532339, 0.90428299, 0.90497659]),\n",
       " 'split1_test_score': array([0.90461325, 0.90496011, 0.90530697, 0.90704128, 0.90617412,\n",
       "        0.90513354, 0.9054804 , 0.90530697, 0.90582726]),\n",
       " 'split2_test_score': array([0.90704128, 0.90808186, 0.90704128, 0.90825529, 0.90825529,\n",
       "        0.90877558, 0.90929587, 0.90790843, 0.907735  ]),\n",
       " 'split3_test_score': array([0.9117239 , 0.91224419, 0.91224419, 0.91241762, 0.91241762,\n",
       "        0.91259105, 0.91328477, 0.9134582 , 0.91415193]),\n",
       " 'split4_test_score': array([0.9037461 , 0.9054804 , 0.90530697, 0.90582726, 0.90565383,\n",
       "        0.90652099, 0.90617412, 0.90496011, 0.90652099]),\n",
       " 'mean_test_score': array([0.9061081 , 0.90694055, 0.90683648, 0.90759957, 0.90739145,\n",
       "        0.90759955, 0.90791171, 0.90718334, 0.90784235]),\n",
       " 'std_test_score': array([0.0030812 , 0.00298367, 0.0028455 , 0.00271941, 0.0027973 ,\n",
       "        0.00284333, 0.00304682, 0.00336972, 0.00328151]),\n",
       " 'rank_test_score': array([9, 7, 8, 3, 5, 4, 1, 6, 2], dtype=int32)}"
      ]
     },
     "execution_count": 449,
     "metadata": {},
     "output_type": "execute_result"
    }
   ],
   "source": [
    "### KNN, how many optimal neighbors\n",
    "\n",
    "knn = KNeighborsClassifier(n_neighbors=3)\n",
    "\n",
    "# Define parameter grid with different 'n_neighbors' values\n",
    "\n",
    "param_grid = {'n_neighbors': [36, 37, 38, 39, 40, 41, 42, 43, 44]}\n",
    "\n",
    "# Perform GridSearchCV\n",
    "\n",
    "grid_search = GridSearchCV(estimator=knn, param_grid=param_grid, cv=5) \n",
    "\n",
    "# Fit the model on your training data\n",
    "\n",
    "grid_search.fit(X_train2, y_train2) \n",
    "grid_search.cv_results_"
   ]
  },
  {
   "cell_type": "code",
   "execution_count": 451,
   "metadata": {},
   "outputs": [
    {
     "data": {
      "text/plain": [
       "0.90928218823339"
      ]
     },
     "execution_count": 451,
     "metadata": {},
     "output_type": "execute_result"
    }
   ],
   "source": [
    "knn_reg_start_time = datetime.datetime.now()\n",
    "knn_reg = KNeighborsClassifier(n_neighbors=42).fit(X_train2, y_train2)\n",
    "knn_reg_end_time = datetime.datetime.now()\n",
    "knn_time = knn_reg_end_time - knn_reg_start_time\n",
    "knn_train_accuracy = accuracy_score(knn_reg.predict(X_train2), y_train2)\n",
    "knn_test_accuracy = accuracy_score(knn_reg.predict(X_test2), y_test2)\n",
    "knn_test_accuracy"
   ]
  },
  {
   "cell_type": "code",
   "execution_count": 453,
   "metadata": {},
   "outputs": [
    {
     "data": {
      "text/plain": [
       "{'mean_fit_time': array([0.02545352, 0.02925038, 0.03567438, 0.04219241, 0.04813681]),\n",
       " 'std_fit_time': array([0.00486448, 0.00023348, 0.00023768, 0.00016618, 0.00054488]),\n",
       " 'mean_score_time': array([0.00163102, 0.00160351, 0.00157747, 0.0016428 , 0.00165095]),\n",
       " 'std_score_time': array([4.31174816e-04, 1.32236152e-05, 2.07073639e-05, 3.85730315e-05,\n",
       "        3.19433209e-05]),\n",
       " 'param_max_depth': masked_array(data=[3, 4, 5, 6, 7],\n",
       "              mask=[False, False, False, False, False],\n",
       "        fill_value=999999),\n",
       " 'params': [{'max_depth': 3},\n",
       "  {'max_depth': 4},\n",
       "  {'max_depth': 5},\n",
       "  {'max_depth': 6},\n",
       "  {'max_depth': 7}],\n",
       " 'split0_test_score': array([0.90289579, 0.9080978 , 0.908618  , 0.90671059, 0.9080978 ]),\n",
       " 'split1_test_score': array([0.90842872, 0.91241762, 0.91640652, 0.91311134, 0.91397849]),\n",
       " 'split2_test_score': array([0.90929587, 0.91328477, 0.91241762, 0.91050989, 0.9117239 ]),\n",
       " 'split3_test_score': array([0.91207076, 0.91814083, 0.91987513, 0.9157128 , 0.91432536]),\n",
       " 'split4_test_score': array([0.90790843, 0.91293791, 0.91432536, 0.91397849, 0.90565383]),\n",
       " 'mean_test_score': array([0.90811991, 0.91297579, 0.91432853, 0.91200462, 0.91075588]),\n",
       " 'std_test_score': array([0.00298073, 0.00319001, 0.00377742, 0.00313473, 0.00338112]),\n",
       " 'rank_test_score': array([5, 2, 1, 3, 4], dtype=int32)}"
      ]
     },
     "execution_count": 453,
     "metadata": {},
     "output_type": "execute_result"
    }
   ],
   "source": [
    "# DTC, what is the optimal depth\n",
    "\n",
    "dtc = DecisionTreeClassifier()\n",
    "\n",
    "# Define parameter grid with different 'n_neighbors' values\n",
    "\n",
    "param_grid = {'max_depth': [3, 4, 5, 6, 7]}\n",
    "\n",
    "# Perform GridSearchCV\n",
    "\n",
    "grid_search = GridSearchCV(estimator=dtc, param_grid=param_grid, cv=5) \n",
    "\n",
    "# Fit the model on your training data\n",
    "\n",
    "grid_search.fit(X_train2, y_train2) \n",
    "grid_search.cv_results_"
   ]
  },
  {
   "cell_type": "code",
   "execution_count": 455,
   "metadata": {},
   "outputs": [
    {
     "data": {
      "text/plain": [
       "0.9155134741442098"
      ]
     },
     "execution_count": 455,
     "metadata": {},
     "output_type": "execute_result"
    }
   ],
   "source": [
    "# Create Decision Tree and track timing and accuracy\n",
    "\n",
    "dec_reg_start_time = datetime.datetime.now()\n",
    "dec_reg = DecisionTreeClassifier(max_depth=5).fit(X_train2, y_train2)\n",
    "dec_reg_end_time = datetime.datetime.now()\n",
    "dec_time = dec_reg_end_time - dec_reg_start_time\n",
    "dec_train_accuracy = accuracy_score(dec_reg.predict(X_train2), y_train2)\n",
    "dec_test_accuracy = accuracy_score(dec_reg.predict(X_test2), y_test2)\n",
    "dec_test_accuracy"
   ]
  },
  {
   "cell_type": "code",
   "execution_count": 457,
   "metadata": {},
   "outputs": [
    {
     "data": {
      "text/plain": [
       "{'mean_fit_time': array([2.49176469, 2.77623205, 3.07356601]),\n",
       " 'std_fit_time': array([0.04543744, 0.04265878, 0.03034357]),\n",
       " 'mean_score_time': array([0.82928891, 0.81943121, 0.97008357]),\n",
       " 'std_score_time': array([0.00561465, 0.00430576, 0.00466886]),\n",
       " 'param_gamma': masked_array(data=[1e-05, 0.0001, 0.001],\n",
       "              mask=[False, False, False],\n",
       "        fill_value=1e+20),\n",
       " 'param_kernel': masked_array(data=['rbf', 'rbf', 'rbf'],\n",
       "              mask=[False, False, False],\n",
       "        fill_value='?',\n",
       "             dtype=object),\n",
       " 'params': [{'gamma': 1e-05, 'kernel': 'rbf'},\n",
       "  {'gamma': 0.0001, 'kernel': 'rbf'},\n",
       "  {'gamma': 0.001, 'kernel': 'rbf'}],\n",
       " 'split0_test_score': array([0.90358939, 0.90445639, 0.90272239]),\n",
       " 'split1_test_score': array([0.90738814, 0.90790843, 0.90634755]),\n",
       " 'split2_test_score': array([0.90721471, 0.90721471, 0.90617412]),\n",
       " 'split3_test_score': array([0.90998959, 0.91397849, 0.91137704]),\n",
       " 'split4_test_score': array([0.90513354, 0.90617412, 0.90253208]),\n",
       " 'mean_test_score': array([0.90666307, 0.90794643, 0.90583064]),\n",
       " 'std_test_score': array([0.00217636, 0.00323246, 0.00321526]),\n",
       " 'rank_test_score': array([2, 1, 3], dtype=int32)}"
      ]
     },
     "execution_count": 457,
     "metadata": {},
     "output_type": "execute_result"
    }
   ],
   "source": [
    "# Do RBF grid search to find optimal gamma\n",
    "\n",
    "params = {'kernel': ['rbf'],\n",
    "         'gamma': [0.00001, 0.0001, 0.001]}\n",
    "grid = GridSearchCV(SVC(), param_grid=params).fit(X_train2, y_train2)\n",
    "grid_score = grid.score(X_test2, y_test2)\n",
    "grid.cv_results_"
   ]
  },
  {
   "cell_type": "code",
   "execution_count": 459,
   "metadata": {},
   "outputs": [
    {
     "data": {
      "text/plain": [
       "0.9103342235170349"
      ]
     },
     "execution_count": 459,
     "metadata": {},
     "output_type": "execute_result"
    }
   ],
   "source": [
    "# Run RBF SVC using optimal gamma of 0.0001\n",
    "# and keep track of timing and acuracy\n",
    "\n",
    "rbf_start_time = datetime.datetime.now()\n",
    "rbf_mod = SVC(kernel='rbf', gamma=0.0001).fit(X_train2,y_train2)\n",
    "rbf_end_time = datetime.datetime.now()\n",
    "rbf_time = rbf_end_time - rbf_start_time\n",
    "rbf_train_accuracy = accuracy_score(rbf_mod.predict(X_train2), y_train2)\n",
    "rbf_test_accuracy = accuracy_score(rbf_mod.predict(X_test2), y_test2)\n",
    "rbf_test_accuracy"
   ]
  },
  {
   "cell_type": "code",
   "execution_count": 461,
   "metadata": {},
   "outputs": [
    {
     "data": {
      "text/plain": [
       "{'mean_fit_time': array([9.50739398, 9.40399399, 9.40368991]),\n",
       " 'std_fit_time': array([1.49103708, 1.46703909, 1.46459556]),\n",
       " 'mean_score_time': array([0.17300868, 0.17078347, 0.17215695]),\n",
       " 'std_score_time': array([0.0052986 , 0.00255712, 0.00214043]),\n",
       " 'param_gamma': masked_array(data=[0.01, 0.1, 1.0],\n",
       "              mask=[False, False, False],\n",
       "        fill_value=1e+20),\n",
       " 'param_kernel': masked_array(data=['linear', 'linear', 'linear'],\n",
       "              mask=[False, False, False],\n",
       "        fill_value='?',\n",
       "             dtype=object),\n",
       " 'params': [{'gamma': 0.01, 'kernel': 'linear'},\n",
       "  {'gamma': 0.1, 'kernel': 'linear'},\n",
       "  {'gamma': 1.0, 'kernel': 'linear'}],\n",
       " 'split0_test_score': array([0.90185538, 0.90185538, 0.90185538]),\n",
       " 'split1_test_score': array([0.90357267, 0.90357267, 0.90357267]),\n",
       " 'split2_test_score': array([0.89542144, 0.89542144, 0.89542144]),\n",
       " 'split3_test_score': array([0.90478668, 0.90478668, 0.90478668]),\n",
       " 'split4_test_score': array([0.90426639, 0.90426639, 0.90426639]),\n",
       " 'mean_test_score': array([0.90198051, 0.90198051, 0.90198051]),\n",
       " 'std_test_score': array([0.00342555, 0.00342555, 0.00342555]),\n",
       " 'rank_test_score': array([1, 1, 1], dtype=int32)}"
      ]
     },
     "execution_count": 461,
     "metadata": {},
     "output_type": "execute_result"
    }
   ],
   "source": [
    "# Do linear grid search to find optimal gamma\n",
    "\n",
    "params = {'kernel': ['linear'],\n",
    "         'gamma': [0.01, 0.1, 1.0]}\n",
    "grid = GridSearchCV(SVC(), param_grid=params).fit(X_train2, y_train2)\n",
    "grid_score = grid.score(X_test2, y_test2)\n",
    "grid.cv_results_"
   ]
  },
  {
   "cell_type": "code",
   "execution_count": 463,
   "metadata": {},
   "outputs": [
    {
     "data": {
      "text/plain": [
       "0.9044266407704136"
      ]
     },
     "execution_count": 463,
     "metadata": {},
     "output_type": "execute_result"
    }
   ],
   "source": [
    "# Do linear SVC using optinal gamma of 0.01\n",
    "# and keep track of timing and acuracy\n",
    "\n",
    "lin_start_time = datetime.datetime.now()\n",
    "lin_mod = SVC(kernel='linear', gamma=0.01).fit(X_train2,y_train2)\n",
    "lin_end_time = datetime.datetime.now()\n",
    "lin_time = lin_end_time - lin_start_time\n",
    "lin_train_accuracy = accuracy_score(lin_mod.predict(X_train2), y_train2)\n",
    "lin_test_accuracy = accuracy_score(lin_mod.predict(X_test2), y_test2)\n",
    "lin_test_accuracy"
   ]
  },
  {
   "cell_type": "code",
   "execution_count": 464,
   "metadata": {},
   "outputs": [
    {
     "data": {
      "text/plain": [
       "{'mean_fit_time': array([1.51539545, 1.53296704, 1.47287083]),\n",
       " 'std_fit_time': array([0.031866  , 0.02784814, 0.00079671]),\n",
       " 'mean_score_time': array([0.33436918, 0.33547578, 0.33703022]),\n",
       " 'std_score_time': array([0.00089919, 0.0012123 , 0.00027049]),\n",
       " 'param_gamma': masked_array(data=[0.1, 1.0, 10.0],\n",
       "              mask=[False, False, False],\n",
       "        fill_value=1e+20),\n",
       " 'param_kernel': masked_array(data=['sigmoid', 'sigmoid', 'sigmoid'],\n",
       "              mask=[False, False, False],\n",
       "        fill_value='?',\n",
       "             dtype=object),\n",
       " 'params': [{'gamma': 0.1, 'kernel': 'sigmoid'},\n",
       "  {'gamma': 1.0, 'kernel': 'sigmoid'},\n",
       "  {'gamma': 10, 'kernel': 'sigmoid'}],\n",
       " 'split0_test_score': array([0.88711635, 0.88711635, 0.88711635]),\n",
       " 'split1_test_score': array([0.8872702, 0.8872702, 0.8872702]),\n",
       " 'split2_test_score': array([0.8872702, 0.8872702, 0.8872702]),\n",
       " 'split3_test_score': array([0.8872702, 0.8872702, 0.8872702]),\n",
       " 'split4_test_score': array([0.8872702, 0.8872702, 0.8872702]),\n",
       " 'mean_test_score': array([0.88723943, 0.88723943, 0.88723943]),\n",
       " 'std_test_score': array([6.15411968e-05, 6.15411968e-05, 6.15411968e-05]),\n",
       " 'rank_test_score': array([1, 1, 1], dtype=int32)}"
      ]
     },
     "execution_count": 464,
     "metadata": {},
     "output_type": "execute_result"
    }
   ],
   "source": [
    "# Do sigmoid grid search to find optimal gamma\n",
    "\n",
    "params = {'kernel': ['sigmoid'],\n",
    "         'gamma': [0.1, 1.0, 10]}\n",
    "grid = GridSearchCV(SVC(), param_grid=params).fit(X_train2, y_train2)\n",
    "grid_score = grid.score(X_test2, y_test2)\n",
    "grid.cv_results_"
   ]
  },
  {
   "cell_type": "code",
   "execution_count": 467,
   "metadata": {},
   "outputs": [
    {
     "data": {
      "text/plain": [
       "0.8875940762320952"
      ]
     },
     "execution_count": 467,
     "metadata": {},
     "output_type": "execute_result"
    }
   ],
   "source": [
    "# Do sigmoid SVC using optimal gamma of 0.1\n",
    "# and keep track of timing and acuracy\n",
    "\n",
    "sig_start_time = datetime.datetime.now()\n",
    "sig_mod = SVC(kernel='sigmoid', gamma=0.1).fit(X_train2,y_train2)\n",
    "sig_end_time = datetime.datetime.now()\n",
    "sig_time = sig_end_time - sig_start_time\n",
    "sig_train_accuracy = accuracy_score(sig_mod.predict(X_train2), y_train2)\n",
    "sig_test_accuracy = accuracy_score(sig_mod.predict(X_test2), y_test2)\n",
    "sig_test_accuracy"
   ]
  },
  {
   "cell_type": "code",
   "execution_count": 469,
   "metadata": {},
   "outputs": [],
   "source": [
    "#params = {'kernel': ['poly'],\n",
    "#         'gamma': [0.1]}\n",
    "#grid = GridSearchCV(SVC(), param_grid=params).fit(X_train, y_train)\n",
    "#grid_score = grid.score(X_test, y_test)\n",
    "#poly_time = poly_end_time - poly_start_time\n",
    "#grid.cv_results_"
   ]
  },
  {
   "cell_type": "code",
   "execution_count": 471,
   "metadata": {},
   "outputs": [],
   "source": [
    "model2 = [\"logistic\", \"KNN\", \"decision tree\", \"rbf\", \"linear\", \"sigmoid\", \"poly\"]\n",
    "train_time2 = [log_time, knn_time, dec_time, rbf_time, lin_time, sig_time, \"N/A\"]\n",
    "train_accuracy2 = [log_train_accuracy, knn_train_accuracy, dec_train_accuracy, \\\n",
    "                  rbf_train_accuracy, lin_train_accuracy, sig_train_accuracy, \"N/A\"]\n",
    "test_accuracy2 = [log_test_accuracy, knn_test_accuracy, dec_test_accuracy, \\\n",
    "                 rbf_test_accuracy, lin_test_accuracy, sig_test_accuracy, \"N/A\"]\n",
    "results_dict2 = {'Model': model2, 'Train Time': train_time2, 'Train Accuracy': train_accuracy2, 'Test Accuracy': test_accuracy2}\n",
    "results2 = pd.DataFrame(results_dict2)"
   ]
  },
  {
   "cell_type": "code",
   "execution_count": 473,
   "metadata": {},
   "outputs": [
    {
     "data": {
      "text/html": [
       "<div>\n",
       "<style scoped>\n",
       "    .dataframe tbody tr th:only-of-type {\n",
       "        vertical-align: middle;\n",
       "    }\n",
       "\n",
       "    .dataframe tbody tr th {\n",
       "        vertical-align: top;\n",
       "    }\n",
       "\n",
       "    .dataframe thead th {\n",
       "        text-align: right;\n",
       "    }\n",
       "</style>\n",
       "<table border=\"1\" class=\"dataframe\">\n",
       "  <thead>\n",
       "    <tr style=\"text-align: right;\">\n",
       "      <th></th>\n",
       "      <th>Model</th>\n",
       "      <th>Train Time</th>\n",
       "      <th>Train Accuracy</th>\n",
       "      <th>Test Accuracy</th>\n",
       "    </tr>\n",
       "  </thead>\n",
       "  <tbody>\n",
       "    <tr>\n",
       "      <th>0</th>\n",
       "      <td>logistic</td>\n",
       "      <td>0:00:00.148627</td>\n",
       "      <td>0.887239</td>\n",
       "      <td>0.887594</td>\n",
       "    </tr>\n",
       "    <tr>\n",
       "      <th>1</th>\n",
       "      <td>KNN</td>\n",
       "      <td>0:00:00.019516</td>\n",
       "      <td>0.890014</td>\n",
       "      <td>0.887189</td>\n",
       "    </tr>\n",
       "    <tr>\n",
       "      <th>2</th>\n",
       "      <td>decision tree</td>\n",
       "      <td>0:00:00.021877</td>\n",
       "      <td>0.887725</td>\n",
       "      <td>0.887675</td>\n",
       "    </tr>\n",
       "    <tr>\n",
       "      <th>3</th>\n",
       "      <td>rbf</td>\n",
       "      <td>0:00:03.175321</td>\n",
       "      <td>0.887239</td>\n",
       "      <td>0.887594</td>\n",
       "    </tr>\n",
       "    <tr>\n",
       "      <th>4</th>\n",
       "      <td>linear</td>\n",
       "      <td>0:00:10.822758</td>\n",
       "      <td>0.887239</td>\n",
       "      <td>0.887594</td>\n",
       "    </tr>\n",
       "    <tr>\n",
       "      <th>5</th>\n",
       "      <td>sigmoid</td>\n",
       "      <td>0:00:01.827863</td>\n",
       "      <td>0.887239</td>\n",
       "      <td>0.887594</td>\n",
       "    </tr>\n",
       "    <tr>\n",
       "      <th>6</th>\n",
       "      <td>poly</td>\n",
       "      <td>N/A</td>\n",
       "      <td>N/A</td>\n",
       "      <td>N/A</td>\n",
       "    </tr>\n",
       "  </tbody>\n",
       "</table>\n",
       "</div>"
      ],
      "text/plain": [
       "           Model      Train Time Train Accuracy Test Accuracy\n",
       "0       logistic  0:00:00.148627       0.887239      0.887594\n",
       "1            KNN  0:00:00.019516       0.890014      0.887189\n",
       "2  decision tree  0:00:00.021877       0.887725      0.887675\n",
       "3            rbf  0:00:03.175321       0.887239      0.887594\n",
       "4         linear  0:00:10.822758       0.887239      0.887594\n",
       "5        sigmoid  0:00:01.827863       0.887239      0.887594\n",
       "6           poly             N/A            N/A           N/A"
      ]
     },
     "execution_count": 473,
     "metadata": {},
     "output_type": "execute_result"
    }
   ],
   "source": [
    "results"
   ]
  },
  {
   "cell_type": "code",
   "execution_count": 475,
   "metadata": {},
   "outputs": [
    {
     "data": {
      "text/html": [
       "<div>\n",
       "<style scoped>\n",
       "    .dataframe tbody tr th:only-of-type {\n",
       "        vertical-align: middle;\n",
       "    }\n",
       "\n",
       "    .dataframe tbody tr th {\n",
       "        vertical-align: top;\n",
       "    }\n",
       "\n",
       "    .dataframe thead th {\n",
       "        text-align: right;\n",
       "    }\n",
       "</style>\n",
       "<table border=\"1\" class=\"dataframe\">\n",
       "  <thead>\n",
       "    <tr style=\"text-align: right;\">\n",
       "      <th></th>\n",
       "      <th>Model</th>\n",
       "      <th>Train Time</th>\n",
       "      <th>Train Accuracy</th>\n",
       "      <th>Test Accuracy</th>\n",
       "    </tr>\n",
       "  </thead>\n",
       "  <tbody>\n",
       "    <tr>\n",
       "      <th>0</th>\n",
       "      <td>logistic</td>\n",
       "      <td>0:00:07.487675</td>\n",
       "      <td>0.907495</td>\n",
       "      <td>0.90912</td>\n",
       "    </tr>\n",
       "    <tr>\n",
       "      <th>1</th>\n",
       "      <td>KNN</td>\n",
       "      <td>0:00:00.012727</td>\n",
       "      <td>0.911172</td>\n",
       "      <td>0.909282</td>\n",
       "    </tr>\n",
       "    <tr>\n",
       "      <th>2</th>\n",
       "      <td>decision tree</td>\n",
       "      <td>0:00:00.060066</td>\n",
       "      <td>0.916652</td>\n",
       "      <td>0.915513</td>\n",
       "    </tr>\n",
       "    <tr>\n",
       "      <th>3</th>\n",
       "      <td>rbf</td>\n",
       "      <td>0:00:04.188927</td>\n",
       "      <td>0.910478</td>\n",
       "      <td>0.910334</td>\n",
       "    </tr>\n",
       "    <tr>\n",
       "      <th>4</th>\n",
       "      <td>linear</td>\n",
       "      <td>0:00:09.184172</td>\n",
       "      <td>0.903125</td>\n",
       "      <td>0.904427</td>\n",
       "    </tr>\n",
       "    <tr>\n",
       "      <th>5</th>\n",
       "      <td>sigmoid</td>\n",
       "      <td>0:00:02.317163</td>\n",
       "      <td>0.887239</td>\n",
       "      <td>0.887594</td>\n",
       "    </tr>\n",
       "    <tr>\n",
       "      <th>6</th>\n",
       "      <td>poly</td>\n",
       "      <td>N/A</td>\n",
       "      <td>N/A</td>\n",
       "      <td>N/A</td>\n",
       "    </tr>\n",
       "  </tbody>\n",
       "</table>\n",
       "</div>"
      ],
      "text/plain": [
       "           Model      Train Time Train Accuracy Test Accuracy\n",
       "0       logistic  0:00:07.487675       0.907495       0.90912\n",
       "1            KNN  0:00:00.012727       0.911172      0.909282\n",
       "2  decision tree  0:00:00.060066       0.916652      0.915513\n",
       "3            rbf  0:00:04.188927       0.910478      0.910334\n",
       "4         linear  0:00:09.184172       0.903125      0.904427\n",
       "5        sigmoid  0:00:02.317163       0.887239      0.887594\n",
       "6           poly             N/A            N/A           N/A"
      ]
     },
     "execution_count": 475,
     "metadata": {},
     "output_type": "execute_result"
    }
   ],
   "source": [
    "results2"
   ]
  },
  {
   "cell_type": "code",
   "execution_count": 481,
   "metadata": {},
   "outputs": [
    {
     "data": {
      "text/plain": [
       "0\n",
       "0    11276\n",
       "1     1081\n",
       "Name: count, dtype: int64"
      ]
     },
     "execution_count": 481,
     "metadata": {},
     "output_type": "execute_result"
    }
   ],
   "source": [
    "pd.DataFrame(dec_reg.predict(X_test2)).value_counts()"
   ]
  },
  {
   "cell_type": "code",
   "execution_count": 485,
   "metadata": {},
   "outputs": [
    {
     "data": {
      "text/plain": [
       "y_encoded\n",
       "0    10968\n",
       "1     1389\n",
       "Name: count, dtype: int64"
      ]
     },
     "execution_count": 485,
     "metadata": {},
     "output_type": "execute_result"
    }
   ],
   "source": [
    "y_test2.value_counts()"
   ]
  },
  {
   "cell_type": "code",
   "execution_count": 477,
   "metadata": {},
   "outputs": [
    {
     "data": {
      "image/png": "[encoded data removed]",
      "text/plain": [
       "<Figure size 640x480 with 1 Axes>"
      ]
     },
     "metadata": {},
     "output_type": "display_data"
    }
   ],
   "source": [
    "sns.regplot(x=y_test2, y=dec_reg.predict(X_test2))\n",
    "plt.xlabel(\"Actual Values\")\n",
    "plt.ylabel(\"Predicted Values\")\n",
    "plt.title(\"Actual vs Predicted Values\")\n",
    "plt.show()"
   ]
  },
  {
   "cell_type": "markdown",
   "metadata": {},
   "source": [
    "# Summary\n",
    "\n",
    "I decided to add additional features that included the marketing last contact month of year, the marketing last contact duration, the marketing number of contacts performed during this campaign, the marketing number of contacts performed before this campaign, the outcome of the previous marketing campaign, the quarterly employment variation rate, the monthly consumer price index, the monthly \n",
    "consumer confidence index, the euribor 3 month rate - daily indicator, and the number of unemployed quarterly indicator.  \n",
    "\n",
    "# Logistic Regression\n",
    "I had to tweak the maximum number of iterations to 5000 for the run to complerte without any warnings.\n",
    "\n",
    "# KNN Nearest Neighbors\n",
    "I used GridSearchCV using several ranges of values and after some iterations found 42 to be the optimal, which was surprisingly vary high.\n",
    "\n",
    "# Decision Tree Depth\n",
    "I used GridSearchCV using 3, 4, 5, 6, and 7 as values for the depth of the decision tree and found 5 to be the optimal.\n",
    "\n",
    "# RBF\n",
    "I used GridSearchCV using 0.0001, 0.001, 0.01 as values for gamma and found 0.0001 to be optimal.\n",
    "\n",
    "# Linear\n",
    "I used GridSearchCV using 0.01, 0.1, 1.0 as values for gamma and found all to be equally optimal\n",
    "\n",
    "# Sigmoid \n",
    "I used GridSearchCV using 0.1, 1.0, 10 as values for gamma and found all to be equally optimal\n",
    "\n",
    "Overall there was a lift in test validation accuracy using the best performing decision tree model with depth = 5.  This model performed 3% better than the models that did not include the additional features in the training/test data set.\n"
   ]
  },
  {
   "cell_type": "code",
   "execution_count": null,
   "metadata": {},
   "outputs": [],
   "source": []
  },
  {
   "cell_type": "code",
   "execution_count": null,
   "metadata": {},
   "outputs": [],
   "source": []
  },
  {
   "cell_type": "markdown",
   "metadata": {},
   "source": [
    "##### Questions"
   ]
  }
 ],
 "metadata": {
  "kernelspec": {
   "display_name": "Python 3 (ipykernel)",
   "language": "python",
   "name": "python3"
  },
  "language_info": {
   "codemirror_mode": {
    "name": "ipython",
    "version": 3
   },
   "file_extension": ".py",
   "mimetype": "text/x-python",
   "name": "python",
   "nbconvert_exporter": "python",
   "pygments_lexer": "ipython3",
   "version": "3.12.4"
  },
  "widgets": {
   "application/vnd.jupyter.widget-state+json": {
    "state": {},
    "version_major": 2,
    "version_minor": 0
   }
  }
 },
 "nbformat": 4,
 "nbformat_minor": 4
}
